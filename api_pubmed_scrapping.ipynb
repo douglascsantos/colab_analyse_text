{
  "nbformat": 4,
  "nbformat_minor": 0,
  "metadata": {
    "colab": {
      "name": "api_pubmed_scrapping.ipynb",
      "provenance": [],
      "collapsed_sections": [],
      "authorship_tag": "ABX9TyOmXOA0u7NOjcib5cs6V8zi",
      "include_colab_link": true
    },
    "kernelspec": {
      "name": "python3",
      "display_name": "Python 3"
    },
    "language_info": {
      "name": "python"
    }
  },
  "cells": [
    {
      "cell_type": "markdown",
      "metadata": {
        "id": "view-in-github",
        "colab_type": "text"
      },
      "source": [
        "<a href=\"https://colab.research.google.com/github/douglascsantos/colab_analyse_text/blob/main/api_pubmed_scrapping.ipynb\" target=\"_parent\"><img src=\"https://colab.research.google.com/assets/colab-badge.svg\" alt=\"Open In Colab\"/></a>"
      ]
    },
    {
      "cell_type": "code",
      "source": [
        "try:\n",
        "  import google.colab\n",
        "  !pip install --upgrade gspread\n",
        "  #!pip install gspread-pandas\n",
        "  #!pip install gspread-dataframe\n",
        "  #!pip install gspread-formatting\n",
        "  !pip install --upgrade pandas --user\n",
        "  !pip install ipynb\n",
        "  !pip install biopython\n",
        "  !pip install pymed\n",
        "except ImportError:\n",
        "    pass"
      ],
      "metadata": {
        "colab": {
          "base_uri": "https://localhost:8080/"
        },
        "id": "aPeOW9pBy_mj",
        "outputId": "911fbc9d-78d1-40b4-b3f7-967287e1cc75"
      },
      "execution_count": 1,
      "outputs": [
        {
          "output_type": "stream",
          "name": "stdout",
          "text": [
            "Requirement already satisfied: gspread in /usr/local/lib/python3.7/dist-packages (5.0.0)\n",
            "Requirement already satisfied: google-auth>=1.12.0 in /usr/local/lib/python3.7/dist-packages (from gspread) (1.35.0)\n",
            "Requirement already satisfied: google-auth-oauthlib>=0.4.1 in /usr/local/lib/python3.7/dist-packages (from gspread) (0.4.6)\n",
            "Requirement already satisfied: rsa<5,>=3.1.4 in /usr/local/lib/python3.7/dist-packages (from google-auth>=1.12.0->gspread) (4.8)\n",
            "Requirement already satisfied: six>=1.9.0 in /usr/local/lib/python3.7/dist-packages (from google-auth>=1.12.0->gspread) (1.15.0)\n",
            "Requirement already satisfied: pyasn1-modules>=0.2.1 in /usr/local/lib/python3.7/dist-packages (from google-auth>=1.12.0->gspread) (0.2.8)\n",
            "Requirement already satisfied: cachetools<5.0,>=2.0.0 in /usr/local/lib/python3.7/dist-packages (from google-auth>=1.12.0->gspread) (4.2.4)\n",
            "Requirement already satisfied: setuptools>=40.3.0 in /usr/local/lib/python3.7/dist-packages (from google-auth>=1.12.0->gspread) (57.4.0)\n",
            "Requirement already satisfied: requests-oauthlib>=0.7.0 in /usr/local/lib/python3.7/dist-packages (from google-auth-oauthlib>=0.4.1->gspread) (1.3.0)\n",
            "Requirement already satisfied: pyasn1<0.5.0,>=0.4.6 in /usr/local/lib/python3.7/dist-packages (from pyasn1-modules>=0.2.1->google-auth>=1.12.0->gspread) (0.4.8)\n",
            "Requirement already satisfied: oauthlib>=3.0.0 in /usr/local/lib/python3.7/dist-packages (from requests-oauthlib>=0.7.0->google-auth-oauthlib>=0.4.1->gspread) (3.1.1)\n",
            "Requirement already satisfied: requests>=2.0.0 in /usr/local/lib/python3.7/dist-packages (from requests-oauthlib>=0.7.0->google-auth-oauthlib>=0.4.1->gspread) (2.23.0)\n",
            "Requirement already satisfied: urllib3!=1.25.0,!=1.25.1,<1.26,>=1.21.1 in /usr/local/lib/python3.7/dist-packages (from requests>=2.0.0->requests-oauthlib>=0.7.0->google-auth-oauthlib>=0.4.1->gspread) (1.24.3)\n",
            "Requirement already satisfied: certifi>=2017.4.17 in /usr/local/lib/python3.7/dist-packages (from requests>=2.0.0->requests-oauthlib>=0.7.0->google-auth-oauthlib>=0.4.1->gspread) (2021.10.8)\n",
            "Requirement already satisfied: chardet<4,>=3.0.2 in /usr/local/lib/python3.7/dist-packages (from requests>=2.0.0->requests-oauthlib>=0.7.0->google-auth-oauthlib>=0.4.1->gspread) (3.0.4)\n",
            "Requirement already satisfied: idna<3,>=2.5 in /usr/local/lib/python3.7/dist-packages (from requests>=2.0.0->requests-oauthlib>=0.7.0->google-auth-oauthlib>=0.4.1->gspread) (2.10)\n",
            "Requirement already satisfied: pandas in /root/.local/lib/python3.7/site-packages (1.3.5)\n",
            "Requirement already satisfied: python-dateutil>=2.7.3 in /usr/local/lib/python3.7/dist-packages (from pandas) (2.8.2)\n",
            "Requirement already satisfied: pytz>=2017.3 in /usr/local/lib/python3.7/dist-packages (from pandas) (2018.9)\n",
            "Requirement already satisfied: numpy>=1.17.3 in /usr/local/lib/python3.7/dist-packages (from pandas) (1.19.5)\n",
            "Requirement already satisfied: six>=1.5 in /usr/local/lib/python3.7/dist-packages (from python-dateutil>=2.7.3->pandas) (1.15.0)\n",
            "Requirement already satisfied: ipynb in /usr/local/lib/python3.7/dist-packages (0.5.1)\n",
            "Requirement already satisfied: biopython in /usr/local/lib/python3.7/dist-packages (1.79)\n",
            "Requirement already satisfied: numpy in /usr/local/lib/python3.7/dist-packages (from biopython) (1.19.5)\n",
            "Requirement already satisfied: pymed in /usr/local/lib/python3.7/dist-packages (0.8.9)\n",
            "Requirement already satisfied: requests>=2.20.0 in /usr/local/lib/python3.7/dist-packages (from pymed) (2.23.0)\n",
            "Requirement already satisfied: urllib3!=1.25.0,!=1.25.1,<1.26,>=1.21.1 in /usr/local/lib/python3.7/dist-packages (from requests>=2.20.0->pymed) (1.24.3)\n",
            "Requirement already satisfied: chardet<4,>=3.0.2 in /usr/local/lib/python3.7/dist-packages (from requests>=2.20.0->pymed) (3.0.4)\n",
            "Requirement already satisfied: certifi>=2017.4.17 in /usr/local/lib/python3.7/dist-packages (from requests>=2.20.0->pymed) (2021.10.8)\n",
            "Requirement already satisfied: idna<3,>=2.5 in /usr/local/lib/python3.7/dist-packages (from requests>=2.20.0->pymed) (2.10)\n"
          ]
        }
      ]
    },
    {
      "cell_type": "code",
      "source": [
        "import os\n",
        "import sys\n",
        "from threading import Thread\n",
        "from datetime import datetime\n",
        "import time\n",
        "import xml.etree.ElementTree as et\n",
        "import pandas as pd\n",
        "\n",
        "from urllib.request import urlretrieve\n",
        "\n",
        "import Bio\n",
        "\n",
        "from Bio import SeqIO, SearchIO, Entrez\n",
        "#from Bio.Seq import Seq\n",
        "#from Bio.SeqUtils import GC\n",
        "#from Bio.Blast import NCBIWWW\n",
        "#from Bio.Data import CodonTable\n",
        "\n",
        "from google.colab import auth\n",
        "import gspread\n",
        "from oauth2client.client import GoogleCredentials\n",
        "\n",
        "#import gspread\n",
        "#from gspread_dataframe import *\n",
        "\n",
        "#import gspread_pandas\n",
        "#from gspread_pandas import Spread, Client\n",
        "\n",
        "#import gspread_dataframe\n",
        "#from gspread_dataframe import get_as_dataframe, set_with_dataframe\n",
        "#import gspread_formatting\n",
        "#from gspread_formatting.dataframe import format_with_dataframe\n",
        "\n",
        "\n",
        "\n",
        "Entrez.email = \"douglas.santos.mat@gmail.com\"\n",
        "Entrez.api_key = \"ce7112eb9027e9ffe673c980fea463c08c08\"\n",
        "\n",
        "print(\"Python version:\", sys.version_info)\n",
        "print(\"Biopython version:\", Bio.__version__)"
      ],
      "metadata": {
        "colab": {
          "base_uri": "https://localhost:8080/"
        },
        "id": "7EUVY5RwCa0D",
        "outputId": "5eec8d58-f35d-45f0-91e6-c68cdbe6a5a5"
      },
      "execution_count": 2,
      "outputs": [
        {
          "output_type": "stream",
          "name": "stdout",
          "text": [
            "Python version: sys.version_info(major=3, minor=7, micro=12, releaselevel='final', serial=0)\n",
            "Biopython version: 1.79\n"
          ]
        }
      ]
    },
    {
      "cell_type": "code",
      "source": [
        "#SESSÃO DE VARIAVEIS E DECLARAÇÕES\n",
        "palavra_chave_da_busca = 'cancer'#'NM_004333.4 c.2128-27C>T'\n",
        "qtde_artigos_retorno = 20\n",
        "retorno_acesso_api_pubmed = '' #retorno do acesso ao pubmed\n",
        "numero_de_artigos_disponiveis = '' \n",
        "xml_retorno = ''\n",
        "lista_de_PMID = []\n",
        "split_lista_de_PMID = []\n",
        "lista_info_artigo = ['ForeName', 'LastName', 'Initials', 'Affiliation', \\\n",
        "                    'Title', 'PMID', 'ISSNLinking','ELocationID', 'ArticleId', 'Year', 'Month', 'Day', \\\n",
        "                    'ArticleTitle', 'AbstractText', 'Language', 'Keyword']\n",
        "lista_PMID_ERRO = []\n",
        "dic_info_artigo = {}\n",
        "dict_informacoes_recebidas = {}\n",
        "COUNTDOWN = 1\n",
        "pmid_num = ''\n",
        "#sql_comando = '' #criar, armazenar_dadosbuscar, deletar, update_dados\n",
        "df_planilha = pd.DataFrame(columns=lista_info_artigo)\n",
        "#print(df)\n",
        "####FIM DA SESSÃO DE VARIAVEIS E DECLARAÇÕES\n",
        "\n",
        "\n"
      ],
      "metadata": {
        "id": "SjqmVdNnF65L"
      },
      "execution_count": 3,
      "outputs": []
    },
    {
      "cell_type": "code",
      "execution_count": 4,
      "metadata": {
        "id": "6V4b0qpkyct0"
      },
      "outputs": [],
      "source": [
        "### FUNÇÕES PARA API PUBMED ##########################\n",
        "def get_abstract_print(pmid):\n",
        "    try:\n",
        "        handle = Entrez.efetch(db='pubmed', id=pmid, retmode='text', rettype='abstract')\n",
        "        abstract_txt = handle.read()\n",
        "        #print(x)\n",
        "        return abstract_txt\n",
        "        \n",
        "    except InterruptedError:\n",
        "        return None\n",
        "                            \n",
        "\n",
        "def get_abstract_info(pmid):\n",
        "    try:\n",
        "        handle = Entrez.efetch(db='pubmed', id=pmid, retmode='xml')\n",
        "        xml_data = handle.read()\n",
        "        return xml_data\n",
        "\n",
        "    except InterruptedError:\n",
        "        return None\n",
        "    \n",
        "def get_abstract(palavra_chave, qtde_artigos_retorno):\n",
        "    try:\n",
        "        handle = Entrez.esearch(db='pubmed', retmax=qtde_artigos_retorno, sort='relevance', term=palavra_chave)\n",
        "        record = Entrez.read(handle)\n",
        "        #first = record[\"IdList\"][0]\n",
        "        lista_de_pmids = record['IdList']\n",
        "        numero_artigos_localizados = record.get('Count')\n",
        "        #numero_artigos_lista = int(len(record['IdList']))\n",
        "        return numero_artigos_localizados, lista_de_pmids\n",
        "\n",
        "    except InterruptedError:\n",
        "        return None\n",
        "\n",
        "#print('numero de artigos encontrados: ' + str(len(record))) # this matches http://www.ncbi.nlm.nih.gov/pubmed/?term=pyramidal%20cell\n",
        "\n",
        "def localiza_atributos(xml_data):\n",
        "  lista_aux = []\n",
        "  dict_aux = {}\n",
        "  root = et.fromstring(xml_data)\n",
        "\n",
        "  for colname in lista_info_artigo:\n",
        "      element = root.iter(colname)\n",
        "      #print('------------------------')\n",
        "      #print(\"coluna nome: \" + str(colname))\n",
        "\n",
        "      for sub_element in element:\n",
        "        lista_aux.append(sub_element.text)    \n",
        "\n",
        "      str_aux = str(lista_aux).replace(\"'\", \"\")[1:-1]\n",
        "      dict_aux[colname] = str_aux[:4998]\n",
        "      #df = df.append(pd.DataFrame(lista_aux, columns=[colname]))\n",
        "      #print('------------------------------------')\n",
        "      lista_aux.clear()\n",
        "      \n",
        "  return dict_aux"
      ]
    },
    {
      "cell_type": "code",
      "source": [
        "######### INICIO DO PROGRAMA CLASSE THREAD SERVE PARA CHAMAR UMA NOVA INSTANCIA A CADA BUSCA ######################################\n",
        "class Th(Thread):\n",
        "\n",
        "    def __init__ (self, num): #, pmid_num):\n",
        "        sys.stdout.write(\"Abrindo a thread numero -> \" + str(num) + \"\\n\")\n",
        "        sys.stdout.flush()\n",
        "        Thread.__init__(self)\n",
        "        #self.pmid_num = pmid_num\n",
        "        self.num = num\n",
        "        self.countdown = COUNTDOWN\n",
        "        time.sleep(1)\n",
        "        #print('\\n')\n",
        "\n",
        "    def run(self):\n",
        "      \n",
        "      xml_retorno = get_abstract_info(self.num) \n",
        "      global df_planilha\n",
        "      dicionario1 = localiza_atributos(xml_retorno)\n",
        "      #print('-----------------------'+'\\n'+' dicionario retorno: '+ str(dicionario1))\n",
        "      \n",
        "      df = pd.DataFrame([dicionario1], index=[0])\n",
        "      df_planilha = df_planilha.append(df)\n",
        "      df_planilha.reset_index(drop=True, inplace=True)     \n",
        "\n",
        "      if xml_retorno == None: \n",
        "        print('erro ao tentar obter o xml_data de: ' + str(self.num))\n",
        "      else: \n",
        "        exit(0)\n",
        "   \n",
        "       # print('------------------------------------------------------ ok ' + str(self.num))"
      ],
      "metadata": {
        "id": "1aBv1HdYJIyA"
      },
      "execution_count": 5,
      "outputs": []
    },
    {
      "cell_type": "code",
      "source": [
        "\n",
        "## O CODIGO COMEÇA AQUI  \n",
        "if (palavra_chave_da_busca) and (int(len(palavra_chave_da_busca)) < 15):\n",
        "    numero_de_artigos_disponiveis, lista_de_PMID = get_abstract(palavra_chave_da_busca, qtde_artigos_retorno)\n",
        "    print('numero de artigos encontrados: ' + str(numero_de_artigos_disponiveis))\n",
        "    print('numero de artigos selecionados: ' + str(qtde_artigos_retorno))\n",
        "    print(lista_de_PMID)\n",
        "\n",
        "    #tratamento de falha!\n",
        "if (int(numero_de_artigos_disponiveis) == 0): # or (numero_de_artigos_disponiveis == None): \n",
        "    print('nada encontrado ou erro de acesso   =P')\n",
        "    exit(0) \n",
        "\n",
        "for PMID in lista_de_PMID:\n",
        "    pmid_artigo = PMID\n",
        "    #print(pmid_artigo)\n",
        "    thread_number = PMID\n",
        "    thread = Th(thread_number)\n",
        "    #thread.start()\n",
        "    thread.run()\n",
        "    print('thread: '+ str(PMID) + ' concluida com sucesso!')\n"
      ],
      "metadata": {
        "colab": {
          "base_uri": "https://localhost:8080/"
        },
        "id": "R0WmkcRRCoCq",
        "outputId": "5f3536f8-798b-4965-946a-b9ac88581e37"
      },
      "execution_count": 6,
      "outputs": [
        {
          "output_type": "stream",
          "name": "stdout",
          "text": [
            "numero de artigos encontrados: 4470613\n",
            "numero de artigos selecionados: 20\n",
            "['31622130', '32682319', '34606625', '32142393', '32469081', '33423008', '31337641', '32306711', '33416884', '33845037', '32496904', '32279022', '30613943', '34582036', '25355167', '32554239', '29847298', '32002308', '30797674', '33121475']\n",
            "Abrindo a thread numero -> 31622130\n",
            "thread: 31622130 concluida com sucesso!\n",
            "Abrindo a thread numero -> 32682319\n",
            "thread: 32682319 concluida com sucesso!\n",
            "Abrindo a thread numero -> 34606625\n",
            "thread: 34606625 concluida com sucesso!\n",
            "Abrindo a thread numero -> 32142393\n",
            "thread: 32142393 concluida com sucesso!\n",
            "Abrindo a thread numero -> 32469081\n",
            "thread: 32469081 concluida com sucesso!\n",
            "Abrindo a thread numero -> 33423008\n",
            "thread: 33423008 concluida com sucesso!\n",
            "Abrindo a thread numero -> 31337641\n",
            "thread: 31337641 concluida com sucesso!\n",
            "Abrindo a thread numero -> 32306711\n",
            "thread: 32306711 concluida com sucesso!\n",
            "Abrindo a thread numero -> 33416884\n",
            "thread: 33416884 concluida com sucesso!\n",
            "Abrindo a thread numero -> 33845037\n",
            "thread: 33845037 concluida com sucesso!\n",
            "Abrindo a thread numero -> 32496904\n",
            "thread: 32496904 concluida com sucesso!\n",
            "Abrindo a thread numero -> 32279022\n",
            "thread: 32279022 concluida com sucesso!\n",
            "Abrindo a thread numero -> 30613943\n",
            "thread: 30613943 concluida com sucesso!\n",
            "Abrindo a thread numero -> 34582036\n",
            "thread: 34582036 concluida com sucesso!\n",
            "Abrindo a thread numero -> 25355167\n",
            "thread: 25355167 concluida com sucesso!\n",
            "Abrindo a thread numero -> 32554239\n",
            "thread: 32554239 concluida com sucesso!\n",
            "Abrindo a thread numero -> 29847298\n",
            "thread: 29847298 concluida com sucesso!\n",
            "Abrindo a thread numero -> 32002308\n",
            "thread: 32002308 concluida com sucesso!\n",
            "Abrindo a thread numero -> 30797674\n",
            "thread: 30797674 concluida com sucesso!\n",
            "Abrindo a thread numero -> 33121475\n",
            "thread: 33121475 concluida com sucesso!\n"
          ]
        }
      ]
    },
    {
      "cell_type": "code",
      "source": [
        "    print('resultado df_planilha: ' + str(df_planilha.shape))\n",
        "    #print(df_planilha.head())"
      ],
      "metadata": {
        "colab": {
          "base_uri": "https://localhost:8080/"
        },
        "id": "szhk_0wIbkvL",
        "outputId": "6aec4ade-08d0-42d0-a930-14b87ac78e7d"
      },
      "execution_count": 7,
      "outputs": [
        {
          "output_type": "stream",
          "name": "stdout",
          "text": [
            "resultado df_planilha: (20, 16)\n",
            "                                            ForeName  ...                                            Keyword\n",
            "0  Lucie M, Qi, Yutaka, Tara O, Todd M, Wendy, Mi...  ...                                                   \n",
            "1          Andrea, Tomáš, Marta, Běla, Aleš, Jarmila  ...  Genetic syndromes with increased risk of cance...\n",
            "2  Tara O, Brynn W, Haley A, Paul C, Jillian, Wen...  ...  cancer survivors, early detection of cancer, h...\n",
            "3  Adam P, Yan, Tara O, Kevin C, Melissa M, Todd ...  ...                                                   \n",
            "4  Jeremy M, Tania A, Wendy N, Peter H, Robert E,...  ...  birth defects, cancer predisposition, childhoo...\n",
            "\n",
            "[5 rows x 16 columns]\n"
          ]
        }
      ]
    },
    {
      "cell_type": "code",
      "source": [
        "auth.authenticate_user()\n",
        "gc = gspread.authorize(GoogleCredentials.get_application_default())"
      ],
      "metadata": {
        "id": "N_5tg102LY9z"
      },
      "execution_count": 8,
      "outputs": []
    },
    {
      "cell_type": "code",
      "source": [
        "#worksheet = gc.open('nome planilha').sheet1\n",
        "planilha = gc.open('resumo artigos cientificos')\n",
        "worksheet = planilha.get_worksheet(0)\n",
        "#nova_spredsheet = gc.create('new_file_pesquisa.xlsx')"
      ],
      "metadata": {
        "id": "SVG6GPszuRl8"
      },
      "execution_count": 9,
      "outputs": []
    },
    {
      "cell_type": "code",
      "source": [
        "\n",
        "\n",
        "# get_all_values gives a list of rows.\n",
        "#rows = worksheet.get_all_values()\n",
        "#print(rows)\n",
        "#dataframe = pd.DataFrame(worksheet.get_all_records())\n",
        "#dataframe.head()\n",
        "#df_gsuite = pd.DataFrame.from_records(rows, columns = rows[0] )\n",
        "#df_gsuite.drop(1, axis = 0, inplace = True)\n",
        "#df_gsuite.drop(0, axis = 0, inplace = True)\n",
        "\n",
        "data_atual = datetime.now()\n",
        "data_em_texto = data_atual.strftime(‘%d-%m-%Y-%H-%M’)\n",
        "nome_aba = 'search_' + str(palavra_chave_da_busca) + '_' + data_em_texto \n",
        "\n",
        "nova_sheet = planilha.add_worksheet('increase_d', rows=22, cols=17)\n",
        "nova_sheet.update([df_planilha.columns.values.tolist()] + df_planilha.values.tolist())"
      ],
      "metadata": {
        "colab": {
          "base_uri": "https://localhost:8080/"
        },
        "id": "IvSY65jPAZR6",
        "outputId": "9756ad54-e45d-43ce-c127-3c12ffca8287"
      },
      "execution_count": 10,
      "outputs": [
        {
          "output_type": "stream",
          "name": "stdout",
          "text": [
            "[['id do artigo', 'data e hora de entrada', 'link do artigo original', 'doi ', 'isbn\\\\issn', 'revista nome completo', 'titulo original do artigo ', 'titulo do artigo traduzido', 'autores completo', 'ano da publicação', 'citação abnt', 'citação vancouver', 'resumo original', 'abstract original', 'resultados original', 'discussão original', 'conclusão original', 'numero de elementos visuais: \\ngraficos, tabelas infografos, quadros e figuras', 'caminho completo\\n do arquivo original', 'caminho do arquivo\\nde referencias artigo original', 'caminho completo\\ndo resumo automático \\n(sumarizado)\\ndo python', 'data da revisão\\n automatica python', 'caminho do\\narquivo resumo  \\ndiferente do artigo', 'TRADUZIDO caminho completo\\ndo resumo automático \\n(sumarizado)\\ndo python', 'TRADUZIDO caminho do\\narquivo resumo  \\ndiferente do artigo'], ['(automatico)', '(automatico)', 'entrada manual', '(automatico)', '(automatico)', '(automatico)', '(automatico)', 'entrada manual', '(automatico)', '(automatico)', '(automatico)', '(automatico)', '(automatico)', '(automatico)', '(automatico)', '(automatico)', '(automatico)', 'entrada manual', '(automatico)', '(automatico)', '(automatico)', '(automatico)', '(automatico)', 'entrada manual', 'entrada manual']]\n"
          ]
        },
        {
          "output_type": "execute_result",
          "data": {
            "text/plain": [
              "{'spreadsheetId': '1tpkDKmgildyLY-8Ez0B6emYoquX16SD_oIEJM7BBxBk',\n",
              " 'updatedCells': 336,\n",
              " 'updatedColumns': 16,\n",
              " 'updatedRange': 'increase_d!A1:P21',\n",
              " 'updatedRows': 21}"
            ]
          },
          "metadata": {},
          "execution_count": 10
        }
      ]
    },
    {
      "cell_type": "code",
      "source": [
        "#worksheet.update([df_planilha.columns.values.tolist()] + df_planilha.values.tolist())\n",
        "#worksheet.write([df_planilha.columns.values.tolist()] + df_planilha.values.tolist())\n",
        "\n",
        "#worksheet = some_worksheet_obtained_from_gspread_client\n",
        "\n",
        "#df = pd.DataFrame.from_records([{'a': i, 'b': i * 2} for i in range(100)])\n",
        "#set_with_dataframe(worksheet, df_planilha)\n",
        "#format_with_dataframe(worksheet, df_planilha, include_column_header=True)\n",
        "\n",
        "#set_with_dataframe(worksheet, df_planilha)\n"
      ],
      "metadata": {
        "id": "qwpP_uslCZHp"
      },
      "execution_count": 11,
      "outputs": []
    },
    {
      "cell_type": "code",
      "source": [
        ""
      ],
      "metadata": {
        "id": "MvdxKsCwMHlz"
      },
      "execution_count": 11,
      "outputs": []
    },
    {
      "cell_type": "code",
      "source": [
        ""
      ],
      "metadata": {
        "id": "F79C8mTDETsY"
      },
      "execution_count": 11,
      "outputs": []
    }
  ]
}