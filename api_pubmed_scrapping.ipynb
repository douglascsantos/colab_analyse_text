{
  "nbformat": 4,
  "nbformat_minor": 0,
  "metadata": {
    "colab": {
      "name": "api_pubmed_scrapping.ipynb",
      "provenance": [],
      "collapsed_sections": [],
      "authorship_tag": "ABX9TyNkB3n5FaCcVJ8IQxmQa2D4",
      "include_colab_link": true
    },
    "kernelspec": {
      "name": "python3",
      "display_name": "Python 3"
    },
    "language_info": {
      "name": "python"
    }
  },
  "cells": [
    {
      "cell_type": "markdown",
      "metadata": {
        "id": "view-in-github",
        "colab_type": "text"
      },
      "source": [
        "<a href=\"https://colab.research.google.com/github/douglascsantos/colab_analyse_text/blob/main/api_pubmed_scrapping.ipynb\" target=\"_parent\"><img src=\"https://colab.research.google.com/assets/colab-badge.svg\" alt=\"Open In Colab\"/></a>"
      ]
    },
    {
      "cell_type": "code",
      "source": [
        "try:\n",
        "  import google.colab\n",
        "  !pip install biopython\n",
        "except ImportError:\n",
        "    pass"
      ],
      "metadata": {
        "colab": {
          "base_uri": "https://localhost:8080/"
        },
        "id": "aPeOW9pBy_mj",
        "outputId": "aeeda9a2-8378-4558-ac99-af05259e6bb4"
      },
      "execution_count": 2,
      "outputs": [
        {
          "output_type": "stream",
          "name": "stdout",
          "text": [
            "Collecting biopython\n",
            "  Downloading biopython-1.79-cp37-cp37m-manylinux_2_5_x86_64.manylinux1_x86_64.whl (2.3 MB)\n",
            "\u001b[?25l\r\u001b[K     |▏                               | 10 kB 26.9 MB/s eta 0:00:01\r\u001b[K     |▎                               | 20 kB 33.2 MB/s eta 0:00:01\r\u001b[K     |▍                               | 30 kB 13.3 MB/s eta 0:00:01\r\u001b[K     |▋                               | 40 kB 9.8 MB/s eta 0:00:01\r\u001b[K     |▊                               | 51 kB 5.2 MB/s eta 0:00:01\r\u001b[K     |▉                               | 61 kB 5.5 MB/s eta 0:00:01\r\u001b[K     |█                               | 71 kB 6.0 MB/s eta 0:00:01\r\u001b[K     |█▏                              | 81 kB 6.8 MB/s eta 0:00:01\r\u001b[K     |█▎                              | 92 kB 7.0 MB/s eta 0:00:01\r\u001b[K     |█▍                              | 102 kB 5.4 MB/s eta 0:00:01\r\u001b[K     |█▋                              | 112 kB 5.4 MB/s eta 0:00:01\r\u001b[K     |█▊                              | 122 kB 5.4 MB/s eta 0:00:01\r\u001b[K     |█▉                              | 133 kB 5.4 MB/s eta 0:00:01\r\u001b[K     |██                              | 143 kB 5.4 MB/s eta 0:00:01\r\u001b[K     |██▏                             | 153 kB 5.4 MB/s eta 0:00:01\r\u001b[K     |██▎                             | 163 kB 5.4 MB/s eta 0:00:01\r\u001b[K     |██▍                             | 174 kB 5.4 MB/s eta 0:00:01\r\u001b[K     |██▋                             | 184 kB 5.4 MB/s eta 0:00:01\r\u001b[K     |██▊                             | 194 kB 5.4 MB/s eta 0:00:01\r\u001b[K     |██▉                             | 204 kB 5.4 MB/s eta 0:00:01\r\u001b[K     |███                             | 215 kB 5.4 MB/s eta 0:00:01\r\u001b[K     |███▏                            | 225 kB 5.4 MB/s eta 0:00:01\r\u001b[K     |███▎                            | 235 kB 5.4 MB/s eta 0:00:01\r\u001b[K     |███▌                            | 245 kB 5.4 MB/s eta 0:00:01\r\u001b[K     |███▋                            | 256 kB 5.4 MB/s eta 0:00:01\r\u001b[K     |███▊                            | 266 kB 5.4 MB/s eta 0:00:01\r\u001b[K     |███▉                            | 276 kB 5.4 MB/s eta 0:00:01\r\u001b[K     |████                            | 286 kB 5.4 MB/s eta 0:00:01\r\u001b[K     |████▏                           | 296 kB 5.4 MB/s eta 0:00:01\r\u001b[K     |████▎                           | 307 kB 5.4 MB/s eta 0:00:01\r\u001b[K     |████▌                           | 317 kB 5.4 MB/s eta 0:00:01\r\u001b[K     |████▋                           | 327 kB 5.4 MB/s eta 0:00:01\r\u001b[K     |████▊                           | 337 kB 5.4 MB/s eta 0:00:01\r\u001b[K     |████▉                           | 348 kB 5.4 MB/s eta 0:00:01\r\u001b[K     |█████                           | 358 kB 5.4 MB/s eta 0:00:01\r\u001b[K     |█████▏                          | 368 kB 5.4 MB/s eta 0:00:01\r\u001b[K     |█████▎                          | 378 kB 5.4 MB/s eta 0:00:01\r\u001b[K     |█████▌                          | 389 kB 5.4 MB/s eta 0:00:01\r\u001b[K     |█████▋                          | 399 kB 5.4 MB/s eta 0:00:01\r\u001b[K     |█████▊                          | 409 kB 5.4 MB/s eta 0:00:01\r\u001b[K     |██████                          | 419 kB 5.4 MB/s eta 0:00:01\r\u001b[K     |██████                          | 430 kB 5.4 MB/s eta 0:00:01\r\u001b[K     |██████▏                         | 440 kB 5.4 MB/s eta 0:00:01\r\u001b[K     |██████▎                         | 450 kB 5.4 MB/s eta 0:00:01\r\u001b[K     |██████▌                         | 460 kB 5.4 MB/s eta 0:00:01\r\u001b[K     |██████▋                         | 471 kB 5.4 MB/s eta 0:00:01\r\u001b[K     |██████▊                         | 481 kB 5.4 MB/s eta 0:00:01\r\u001b[K     |███████                         | 491 kB 5.4 MB/s eta 0:00:01\r\u001b[K     |███████                         | 501 kB 5.4 MB/s eta 0:00:01\r\u001b[K     |███████▏                        | 512 kB 5.4 MB/s eta 0:00:01\r\u001b[K     |███████▎                        | 522 kB 5.4 MB/s eta 0:00:01\r\u001b[K     |███████▌                        | 532 kB 5.4 MB/s eta 0:00:01\r\u001b[K     |███████▋                        | 542 kB 5.4 MB/s eta 0:00:01\r\u001b[K     |███████▊                        | 552 kB 5.4 MB/s eta 0:00:01\r\u001b[K     |████████                        | 563 kB 5.4 MB/s eta 0:00:01\r\u001b[K     |████████                        | 573 kB 5.4 MB/s eta 0:00:01\r\u001b[K     |████████▏                       | 583 kB 5.4 MB/s eta 0:00:01\r\u001b[K     |████████▍                       | 593 kB 5.4 MB/s eta 0:00:01\r\u001b[K     |████████▌                       | 604 kB 5.4 MB/s eta 0:00:01\r\u001b[K     |████████▋                       | 614 kB 5.4 MB/s eta 0:00:01\r\u001b[K     |████████▊                       | 624 kB 5.4 MB/s eta 0:00:01\r\u001b[K     |█████████                       | 634 kB 5.4 MB/s eta 0:00:01\r\u001b[K     |█████████                       | 645 kB 5.4 MB/s eta 0:00:01\r\u001b[K     |█████████▏                      | 655 kB 5.4 MB/s eta 0:00:01\r\u001b[K     |█████████▍                      | 665 kB 5.4 MB/s eta 0:00:01\r\u001b[K     |█████████▌                      | 675 kB 5.4 MB/s eta 0:00:01\r\u001b[K     |█████████▋                      | 686 kB 5.4 MB/s eta 0:00:01\r\u001b[K     |█████████▊                      | 696 kB 5.4 MB/s eta 0:00:01\r\u001b[K     |██████████                      | 706 kB 5.4 MB/s eta 0:00:01\r\u001b[K     |██████████                      | 716 kB 5.4 MB/s eta 0:00:01\r\u001b[K     |██████████▏                     | 727 kB 5.4 MB/s eta 0:00:01\r\u001b[K     |██████████▍                     | 737 kB 5.4 MB/s eta 0:00:01\r\u001b[K     |██████████▌                     | 747 kB 5.4 MB/s eta 0:00:01\r\u001b[K     |██████████▋                     | 757 kB 5.4 MB/s eta 0:00:01\r\u001b[K     |██████████▉                     | 768 kB 5.4 MB/s eta 0:00:01\r\u001b[K     |███████████                     | 778 kB 5.4 MB/s eta 0:00:01\r\u001b[K     |███████████                     | 788 kB 5.4 MB/s eta 0:00:01\r\u001b[K     |███████████▏                    | 798 kB 5.4 MB/s eta 0:00:01\r\u001b[K     |███████████▍                    | 808 kB 5.4 MB/s eta 0:00:01\r\u001b[K     |███████████▌                    | 819 kB 5.4 MB/s eta 0:00:01\r\u001b[K     |███████████▋                    | 829 kB 5.4 MB/s eta 0:00:01\r\u001b[K     |███████████▉                    | 839 kB 5.4 MB/s eta 0:00:01\r\u001b[K     |████████████                    | 849 kB 5.4 MB/s eta 0:00:01\r\u001b[K     |████████████                    | 860 kB 5.4 MB/s eta 0:00:01\r\u001b[K     |████████████▏                   | 870 kB 5.4 MB/s eta 0:00:01\r\u001b[K     |████████████▍                   | 880 kB 5.4 MB/s eta 0:00:01\r\u001b[K     |████████████▌                   | 890 kB 5.4 MB/s eta 0:00:01\r\u001b[K     |████████████▋                   | 901 kB 5.4 MB/s eta 0:00:01\r\u001b[K     |████████████▉                   | 911 kB 5.4 MB/s eta 0:00:01\r\u001b[K     |█████████████                   | 921 kB 5.4 MB/s eta 0:00:01\r\u001b[K     |█████████████                   | 931 kB 5.4 MB/s eta 0:00:01\r\u001b[K     |█████████████▎                  | 942 kB 5.4 MB/s eta 0:00:01\r\u001b[K     |█████████████▍                  | 952 kB 5.4 MB/s eta 0:00:01\r\u001b[K     |█████████████▌                  | 962 kB 5.4 MB/s eta 0:00:01\r\u001b[K     |█████████████▋                  | 972 kB 5.4 MB/s eta 0:00:01\r\u001b[K     |█████████████▉                  | 983 kB 5.4 MB/s eta 0:00:01\r\u001b[K     |██████████████                  | 993 kB 5.4 MB/s eta 0:00:01\r\u001b[K     |██████████████                  | 1.0 MB 5.4 MB/s eta 0:00:01\r\u001b[K     |██████████████▎                 | 1.0 MB 5.4 MB/s eta 0:00:01\r\u001b[K     |██████████████▍                 | 1.0 MB 5.4 MB/s eta 0:00:01\r\u001b[K     |██████████████▌                 | 1.0 MB 5.4 MB/s eta 0:00:01\r\u001b[K     |██████████████▋                 | 1.0 MB 5.4 MB/s eta 0:00:01\r\u001b[K     |██████████████▉                 | 1.1 MB 5.4 MB/s eta 0:00:01\r\u001b[K     |███████████████                 | 1.1 MB 5.4 MB/s eta 0:00:01\r\u001b[K     |███████████████                 | 1.1 MB 5.4 MB/s eta 0:00:01\r\u001b[K     |███████████████▎                | 1.1 MB 5.4 MB/s eta 0:00:01\r\u001b[K     |███████████████▍                | 1.1 MB 5.4 MB/s eta 0:00:01\r\u001b[K     |███████████████▌                | 1.1 MB 5.4 MB/s eta 0:00:01\r\u001b[K     |███████████████▊                | 1.1 MB 5.4 MB/s eta 0:00:01\r\u001b[K     |███████████████▉                | 1.1 MB 5.4 MB/s eta 0:00:01\r\u001b[K     |████████████████                | 1.1 MB 5.4 MB/s eta 0:00:01\r\u001b[K     |████████████████                | 1.1 MB 5.4 MB/s eta 0:00:01\r\u001b[K     |████████████████▎               | 1.2 MB 5.4 MB/s eta 0:00:01\r\u001b[K     |████████████████▍               | 1.2 MB 5.4 MB/s eta 0:00:01\r\u001b[K     |████████████████▌               | 1.2 MB 5.4 MB/s eta 0:00:01\r\u001b[K     |████████████████▊               | 1.2 MB 5.4 MB/s eta 0:00:01\r\u001b[K     |████████████████▉               | 1.2 MB 5.4 MB/s eta 0:00:01\r\u001b[K     |█████████████████               | 1.2 MB 5.4 MB/s eta 0:00:01\r\u001b[K     |█████████████████               | 1.2 MB 5.4 MB/s eta 0:00:01\r\u001b[K     |█████████████████▎              | 1.2 MB 5.4 MB/s eta 0:00:01\r\u001b[K     |█████████████████▍              | 1.2 MB 5.4 MB/s eta 0:00:01\r\u001b[K     |█████████████████▌              | 1.2 MB 5.4 MB/s eta 0:00:01\r\u001b[K     |█████████████████▊              | 1.3 MB 5.4 MB/s eta 0:00:01\r\u001b[K     |█████████████████▉              | 1.3 MB 5.4 MB/s eta 0:00:01\r\u001b[K     |██████████████████              | 1.3 MB 5.4 MB/s eta 0:00:01\r\u001b[K     |██████████████████▏             | 1.3 MB 5.4 MB/s eta 0:00:01\r\u001b[K     |██████████████████▎             | 1.3 MB 5.4 MB/s eta 0:00:01\r\u001b[K     |██████████████████▍             | 1.3 MB 5.4 MB/s eta 0:00:01\r\u001b[K     |██████████████████▌             | 1.3 MB 5.4 MB/s eta 0:00:01\r\u001b[K     |██████████████████▊             | 1.3 MB 5.4 MB/s eta 0:00:01\r\u001b[K     |██████████████████▉             | 1.3 MB 5.4 MB/s eta 0:00:01\r\u001b[K     |███████████████████             | 1.4 MB 5.4 MB/s eta 0:00:01\r\u001b[K     |███████████████████▏            | 1.4 MB 5.4 MB/s eta 0:00:01\r\u001b[K     |███████████████████▎            | 1.4 MB 5.4 MB/s eta 0:00:01\r\u001b[K     |███████████████████▍            | 1.4 MB 5.4 MB/s eta 0:00:01\r\u001b[K     |███████████████████▌            | 1.4 MB 5.4 MB/s eta 0:00:01\r\u001b[K     |███████████████████▊            | 1.4 MB 5.4 MB/s eta 0:00:01\r\u001b[K     |███████████████████▉            | 1.4 MB 5.4 MB/s eta 0:00:01\r\u001b[K     |████████████████████            | 1.4 MB 5.4 MB/s eta 0:00:01\r\u001b[K     |████████████████████▏           | 1.4 MB 5.4 MB/s eta 0:00:01\r\u001b[K     |████████████████████▎           | 1.4 MB 5.4 MB/s eta 0:00:01\r\u001b[K     |████████████████████▍           | 1.5 MB 5.4 MB/s eta 0:00:01\r\u001b[K     |████████████████████▋           | 1.5 MB 5.4 MB/s eta 0:00:01\r\u001b[K     |████████████████████▊           | 1.5 MB 5.4 MB/s eta 0:00:01\r\u001b[K     |████████████████████▉           | 1.5 MB 5.4 MB/s eta 0:00:01\r\u001b[K     |█████████████████████           | 1.5 MB 5.4 MB/s eta 0:00:01\r\u001b[K     |█████████████████████▏          | 1.5 MB 5.4 MB/s eta 0:00:01\r\u001b[K     |█████████████████████▎          | 1.5 MB 5.4 MB/s eta 0:00:01\r\u001b[K     |█████████████████████▍          | 1.5 MB 5.4 MB/s eta 0:00:01\r\u001b[K     |█████████████████████▋          | 1.5 MB 5.4 MB/s eta 0:00:01\r\u001b[K     |█████████████████████▊          | 1.5 MB 5.4 MB/s eta 0:00:01\r\u001b[K     |█████████████████████▉          | 1.6 MB 5.4 MB/s eta 0:00:01\r\u001b[K     |██████████████████████          | 1.6 MB 5.4 MB/s eta 0:00:01\r\u001b[K     |██████████████████████▏         | 1.6 MB 5.4 MB/s eta 0:00:01\r\u001b[K     |██████████████████████▎         | 1.6 MB 5.4 MB/s eta 0:00:01\r\u001b[K     |██████████████████████▍         | 1.6 MB 5.4 MB/s eta 0:00:01\r\u001b[K     |██████████████████████▋         | 1.6 MB 5.4 MB/s eta 0:00:01\r\u001b[K     |██████████████████████▊         | 1.6 MB 5.4 MB/s eta 0:00:01\r\u001b[K     |██████████████████████▉         | 1.6 MB 5.4 MB/s eta 0:00:01\r\u001b[K     |███████████████████████         | 1.6 MB 5.4 MB/s eta 0:00:01\r\u001b[K     |███████████████████████▏        | 1.6 MB 5.4 MB/s eta 0:00:01\r\u001b[K     |███████████████████████▎        | 1.7 MB 5.4 MB/s eta 0:00:01\r\u001b[K     |███████████████████████▍        | 1.7 MB 5.4 MB/s eta 0:00:01\r\u001b[K     |███████████████████████▋        | 1.7 MB 5.4 MB/s eta 0:00:01\r\u001b[K     |███████████████████████▊        | 1.7 MB 5.4 MB/s eta 0:00:01\r\u001b[K     |███████████████████████▉        | 1.7 MB 5.4 MB/s eta 0:00:01\r\u001b[K     |████████████████████████        | 1.7 MB 5.4 MB/s eta 0:00:01\r\u001b[K     |████████████████████████▏       | 1.7 MB 5.4 MB/s eta 0:00:01\r\u001b[K     |████████████████████████▎       | 1.7 MB 5.4 MB/s eta 0:00:01\r\u001b[K     |████████████████████████▍       | 1.7 MB 5.4 MB/s eta 0:00:01\r\u001b[K     |████████████████████████▋       | 1.8 MB 5.4 MB/s eta 0:00:01\r\u001b[K     |████████████████████████▊       | 1.8 MB 5.4 MB/s eta 0:00:01\r\u001b[K     |████████████████████████▉       | 1.8 MB 5.4 MB/s eta 0:00:01\r\u001b[K     |█████████████████████████       | 1.8 MB 5.4 MB/s eta 0:00:01\r\u001b[K     |█████████████████████████▏      | 1.8 MB 5.4 MB/s eta 0:00:01\r\u001b[K     |█████████████████████████▎      | 1.8 MB 5.4 MB/s eta 0:00:01\r\u001b[K     |█████████████████████████▌      | 1.8 MB 5.4 MB/s eta 0:00:01\r\u001b[K     |█████████████████████████▋      | 1.8 MB 5.4 MB/s eta 0:00:01\r\u001b[K     |█████████████████████████▊      | 1.8 MB 5.4 MB/s eta 0:00:01\r\u001b[K     |█████████████████████████▉      | 1.8 MB 5.4 MB/s eta 0:00:01\r\u001b[K     |██████████████████████████      | 1.9 MB 5.4 MB/s eta 0:00:01\r\u001b[K     |██████████████████████████▏     | 1.9 MB 5.4 MB/s eta 0:00:01\r\u001b[K     |██████████████████████████▎     | 1.9 MB 5.4 MB/s eta 0:00:01\r\u001b[K     |██████████████████████████▌     | 1.9 MB 5.4 MB/s eta 0:00:01\r\u001b[K     |██████████████████████████▋     | 1.9 MB 5.4 MB/s eta 0:00:01\r\u001b[K     |██████████████████████████▊     | 1.9 MB 5.4 MB/s eta 0:00:01\r\u001b[K     |██████████████████████████▉     | 1.9 MB 5.4 MB/s eta 0:00:01\r\u001b[K     |███████████████████████████     | 1.9 MB 5.4 MB/s eta 0:00:01\r\u001b[K     |███████████████████████████▏    | 1.9 MB 5.4 MB/s eta 0:00:01\r\u001b[K     |███████████████████████████▎    | 1.9 MB 5.4 MB/s eta 0:00:01\r\u001b[K     |███████████████████████████▌    | 2.0 MB 5.4 MB/s eta 0:00:01\r\u001b[K     |███████████████████████████▋    | 2.0 MB 5.4 MB/s eta 0:00:01\r\u001b[K     |███████████████████████████▊    | 2.0 MB 5.4 MB/s eta 0:00:01\r\u001b[K     |████████████████████████████    | 2.0 MB 5.4 MB/s eta 0:00:01\r\u001b[K     |████████████████████████████    | 2.0 MB 5.4 MB/s eta 0:00:01\r\u001b[K     |████████████████████████████▏   | 2.0 MB 5.4 MB/s eta 0:00:01\r\u001b[K     |████████████████████████████▎   | 2.0 MB 5.4 MB/s eta 0:00:01\r\u001b[K     |████████████████████████████▌   | 2.0 MB 5.4 MB/s eta 0:00:01\r\u001b[K     |████████████████████████████▋   | 2.0 MB 5.4 MB/s eta 0:00:01\r\u001b[K     |████████████████████████████▊   | 2.0 MB 5.4 MB/s eta 0:00:01\r\u001b[K     |█████████████████████████████   | 2.1 MB 5.4 MB/s eta 0:00:01\r\u001b[K     |█████████████████████████████   | 2.1 MB 5.4 MB/s eta 0:00:01\r\u001b[K     |█████████████████████████████▏  | 2.1 MB 5.4 MB/s eta 0:00:01\r\u001b[K     |█████████████████████████████▎  | 2.1 MB 5.4 MB/s eta 0:00:01\r\u001b[K     |█████████████████████████████▌  | 2.1 MB 5.4 MB/s eta 0:00:01\r\u001b[K     |█████████████████████████████▋  | 2.1 MB 5.4 MB/s eta 0:00:01\r\u001b[K     |█████████████████████████████▊  | 2.1 MB 5.4 MB/s eta 0:00:01\r\u001b[K     |██████████████████████████████  | 2.1 MB 5.4 MB/s eta 0:00:01\r\u001b[K     |██████████████████████████████  | 2.1 MB 5.4 MB/s eta 0:00:01\r\u001b[K     |██████████████████████████████▏ | 2.2 MB 5.4 MB/s eta 0:00:01\r\u001b[K     |██████████████████████████████▍ | 2.2 MB 5.4 MB/s eta 0:00:01\r\u001b[K     |██████████████████████████████▌ | 2.2 MB 5.4 MB/s eta 0:00:01\r\u001b[K     |██████████████████████████████▋ | 2.2 MB 5.4 MB/s eta 0:00:01\r\u001b[K     |██████████████████████████████▊ | 2.2 MB 5.4 MB/s eta 0:00:01\r\u001b[K     |███████████████████████████████ | 2.2 MB 5.4 MB/s eta 0:00:01\r\u001b[K     |███████████████████████████████ | 2.2 MB 5.4 MB/s eta 0:00:01\r\u001b[K     |███████████████████████████████▏| 2.2 MB 5.4 MB/s eta 0:00:01\r\u001b[K     |███████████████████████████████▍| 2.2 MB 5.4 MB/s eta 0:00:01\r\u001b[K     |███████████████████████████████▌| 2.2 MB 5.4 MB/s eta 0:00:01\r\u001b[K     |███████████████████████████████▋| 2.3 MB 5.4 MB/s eta 0:00:01\r\u001b[K     |███████████████████████████████▊| 2.3 MB 5.4 MB/s eta 0:00:01\r\u001b[K     |████████████████████████████████| 2.3 MB 5.4 MB/s eta 0:00:01\r\u001b[K     |████████████████████████████████| 2.3 MB 5.4 MB/s \n",
            "\u001b[?25hRequirement already satisfied: numpy in /usr/local/lib/python3.7/dist-packages (from biopython) (1.19.5)\n",
            "Installing collected packages: biopython\n",
            "Successfully installed biopython-1.79\n"
          ]
        }
      ]
    },
    {
      "cell_type": "code",
      "source": [
        "import os\n",
        "import sys\n",
        "\n",
        "from urllib.request import urlretrieve\n",
        "\n",
        "import Bio\n",
        "from Bio import SeqIO, SearchIO, Entrez\n",
        "from Bio.Seq import Seq\n",
        "from Bio.SeqUtils import GC\n",
        "from Bio.Blast import NCBIWWW\n",
        "from Bio.Data import CodonTable\n",
        "\n",
        "print(\"Python version:\", sys.version_info)\n",
        "print(\"Biopython version:\", Bio.__version__)"
      ],
      "metadata": {
        "colab": {
          "base_uri": "https://localhost:8080/"
        },
        "id": "7EUVY5RwCa0D",
        "outputId": "746dce7d-5412-4fe1-dd47-79265256c222"
      },
      "execution_count": 3,
      "outputs": [
        {
          "output_type": "stream",
          "name": "stdout",
          "text": [
            "Python version: sys.version_info(major=3, minor=7, micro=12, releaselevel='final', serial=0)\n",
            "Biopython version: 1.79\n"
          ]
        }
      ]
    },
    {
      "cell_type": "code",
      "execution_count": 4,
      "metadata": {
        "id": "6V4b0qpkyct0"
      },
      "outputs": [],
      "source": [
        "import xml.etree.ElementTree as et\n",
        "from Bio import Entrez\n",
        "Entrez.email = \"douglas.santos.mat@gmail.com\"\n",
        "Entrez.api_key = \"ce7112eb9027e9ffe673c980fea463c08c08\"\n",
        "\n",
        "\n",
        "def get_abstract_print(pmid):\n",
        "    try:\n",
        "        handle = Entrez.efetch(db='pubmed', id=pmid, retmode='text', rettype='abstract')\n",
        "        abstract_txt = handle.read()\n",
        "        #print(x)\n",
        "        return abstract_txt\n",
        "        \n",
        "    except InterruptedError:\n",
        "        return None\n",
        "                            \n",
        "\n",
        "def get_abstract_info(pmid):\n",
        "    try:\n",
        "        handle = Entrez.efetch(db='pubmed', id=pmid, retmode='xml')\n",
        "        xml_data = handle.read()\n",
        "        return xml_data\n",
        "\n",
        "    except InterruptedError:\n",
        "        return None\n",
        "    \n",
        "def get_abstract(palavra_chave, qtde_artigos_retorno):\n",
        "    try:\n",
        "        handle = Entrez.esearch(db='pubmed', retmax=qtde_artigos_retorno, sort='relevance', term=palavra_chave)\n",
        "        record = Entrez.read(handle)\n",
        "        #first = record[\"IdList\"][0]\n",
        "        lista_de_pmids = record['IdList']\n",
        "        numero_artigos_localizados = record.get('Count')\n",
        "        #numero_artigos_lista = int(len(record['IdList']))\n",
        "        return numero_artigos_localizados, lista_de_pmids\n",
        "\n",
        "    except InterruptedError:\n",
        "        return None\n",
        "\n",
        "#print('numero de artigos encontrados: ' + str(len(record))) # this matches http://www.ncbi.nlm.nih.gov/pubmed/?term=pyramidal%20cell\n",
        "\n",
        "def localiza_atributos(xml_data, atributo_localizar_txt):\n",
        "    dic_return_valores = {}\n",
        "    lista_aux = []\n",
        "    root = et.fromstring(xml_data)\n",
        "    \n",
        "    #print(xml_data)\n",
        "    #for item_list_atributos in list_atributos:\n",
        "    #    if item_list_atributos == list_atributos[1]:\n",
        "    #       print(lista_aux)\n",
        "    #        x = len(lista_aux)\n",
        "    #        print('numero de autores = ' + str(x))\n",
        "    #        lista_aux.append(x)\n",
        "    #        next\n",
        "\n",
        "    element = root.iter(atributo_localizar_txt)\n",
        "\n",
        "    for sub_element in element:\n",
        "        lista_aux.append(sub_element.text)\n",
        "        dic_return_valores[atributo_localizar_txt] = str(lista_aux).replace(\"'\", \"\")[1:-1] #.strip('[]')\n",
        "\n",
        "\n",
        "\n",
        "        #print('sub_element: ' + str(sub_element.text))\n",
        "        #print(sub_element.attrib)\n",
        "  #      if sub_element.text != '':\n",
        " #           lista_aux = []\n",
        " #           lista_aux.append(sub_element.text)\n",
        " #           dic_return_valores[atributo_localizar_txt] = str(lista_aux).strip('[]')\n",
        "\n",
        "            \n",
        "\n",
        "#        for valores in sub_element.attrib:\n",
        "#            if valores != 'MajorTopicYN' and valores != 'UI' and valores != 'IdType':\n",
        "#                print('sub_sub_element: ' + str(valores))\n",
        "#                if valores != '':\n",
        "#                    print('')\n",
        "                    #lista_aux.append(valores)\n",
        "            #dic_return_valores[item_list_atributos] = lista_aux\n",
        "    \n",
        "    return dic_return_valores"
      ]
    },
    {
      "cell_type": "code",
      "source": [
        ""
      ],
      "metadata": {
        "id": "R0WmkcRRCoCq"
      },
      "execution_count": null,
      "outputs": []
    }
  ]
}