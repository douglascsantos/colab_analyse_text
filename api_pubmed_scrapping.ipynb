{
  "nbformat": 4,
  "nbformat_minor": 0,
  "metadata": {
    "colab": {
      "name": "api_pubmed_scrapping.ipynb",
      "provenance": [],
      "collapsed_sections": [],
      "authorship_tag": "ABX9TyMRfFi+fimJ3MmPwOmhuEQS",
      "include_colab_link": true
    },
    "kernelspec": {
      "name": "python3",
      "display_name": "Python 3"
    },
    "language_info": {
      "name": "python"
    }
  },
  "cells": [
    {
      "cell_type": "markdown",
      "metadata": {
        "id": "view-in-github",
        "colab_type": "text"
      },
      "source": [
        "<a href=\"https://colab.research.google.com/github/douglascsantos/colab_analyse_text/blob/main/api_pubmed_scrapping.ipynb\" target=\"_parent\"><img src=\"https://colab.research.google.com/assets/colab-badge.svg\" alt=\"Open In Colab\"/></a>"
      ]
    },
    {
      "cell_type": "code",
      "source": [
        "try:\n",
        "  import google.colab\n",
        "  !pip install gspread\n",
        "  !pip install --upgrade pandas --user\n",
        "  !pip install ipynb\n",
        "  !pip install biopython\n",
        "  !pip install pymed\n",
        "except ImportError:\n",
        "    pass"
      ],
      "metadata": {
        "colab": {
          "base_uri": "https://localhost:8080/"
        },
        "id": "aPeOW9pBy_mj",
        "outputId": "d8379a63-829b-4ac4-86db-2c822f79626e"
      },
      "execution_count": 1,
      "outputs": [
        {
          "output_type": "stream",
          "name": "stdout",
          "text": [
            "Requirement already satisfied: gspread in /usr/local/lib/python3.7/dist-packages (3.0.1)\n",
            "Requirement already satisfied: requests>=2.2.1 in /usr/local/lib/python3.7/dist-packages (from gspread) (2.23.0)\n",
            "Requirement already satisfied: urllib3!=1.25.0,!=1.25.1,<1.26,>=1.21.1 in /usr/local/lib/python3.7/dist-packages (from requests>=2.2.1->gspread) (1.24.3)\n",
            "Requirement already satisfied: certifi>=2017.4.17 in /usr/local/lib/python3.7/dist-packages (from requests>=2.2.1->gspread) (2021.10.8)\n",
            "Requirement already satisfied: idna<3,>=2.5 in /usr/local/lib/python3.7/dist-packages (from requests>=2.2.1->gspread) (2.10)\n",
            "Requirement already satisfied: chardet<4,>=3.0.2 in /usr/local/lib/python3.7/dist-packages (from requests>=2.2.1->gspread) (3.0.4)\n",
            "Requirement already satisfied: pandas in /root/.local/lib/python3.7/site-packages (1.3.5)\n",
            "Requirement already satisfied: numpy>=1.17.3 in /usr/local/lib/python3.7/dist-packages (from pandas) (1.19.5)\n",
            "Requirement already satisfied: pytz>=2017.3 in /usr/local/lib/python3.7/dist-packages (from pandas) (2018.9)\n",
            "Requirement already satisfied: python-dateutil>=2.7.3 in /usr/local/lib/python3.7/dist-packages (from pandas) (2.8.2)\n",
            "Requirement already satisfied: six>=1.5 in /usr/local/lib/python3.7/dist-packages (from python-dateutil>=2.7.3->pandas) (1.15.0)\n",
            "Requirement already satisfied: ipynb in /usr/local/lib/python3.7/dist-packages (0.5.1)\n",
            "Requirement already satisfied: biopython in /usr/local/lib/python3.7/dist-packages (1.79)\n",
            "Requirement already satisfied: numpy in /usr/local/lib/python3.7/dist-packages (from biopython) (1.19.5)\n",
            "Requirement already satisfied: pymed in /usr/local/lib/python3.7/dist-packages (0.8.9)\n",
            "Requirement already satisfied: requests>=2.20.0 in /usr/local/lib/python3.7/dist-packages (from pymed) (2.23.0)\n",
            "Requirement already satisfied: certifi>=2017.4.17 in /usr/local/lib/python3.7/dist-packages (from requests>=2.20.0->pymed) (2021.10.8)\n",
            "Requirement already satisfied: chardet<4,>=3.0.2 in /usr/local/lib/python3.7/dist-packages (from requests>=2.20.0->pymed) (3.0.4)\n",
            "Requirement already satisfied: idna<3,>=2.5 in /usr/local/lib/python3.7/dist-packages (from requests>=2.20.0->pymed) (2.10)\n",
            "Requirement already satisfied: urllib3!=1.25.0,!=1.25.1,<1.26,>=1.21.1 in /usr/local/lib/python3.7/dist-packages (from requests>=2.20.0->pymed) (1.24.3)\n"
          ]
        }
      ]
    },
    {
      "cell_type": "code",
      "source": [
        "import os\n",
        "import sys\n",
        "from threading import Thread\n",
        "import time\n",
        "import xml.etree.ElementTree as et\n",
        "import pandas as pd\n",
        "\n",
        "from urllib.request import urlretrieve\n",
        "\n",
        "import Bio\n",
        "\n",
        "from Bio import SeqIO, SearchIO, Entrez\n",
        "#from Bio.Seq import Seq\n",
        "#from Bio.SeqUtils import GC\n",
        "#from Bio.Blast import NCBIWWW\n",
        "#from Bio.Data import CodonTable\n",
        "\n",
        "\n",
        "Entrez.email = \"douglas.santos.mat@gmail.com\"\n",
        "Entrez.api_key = \"ce7112eb9027e9ffe673c980fea463c08c08\"\n",
        "\n",
        "print(\"Python version:\", sys.version_info)\n",
        "print(\"Biopython version:\", Bio.__version__)"
      ],
      "metadata": {
        "colab": {
          "base_uri": "https://localhost:8080/"
        },
        "id": "7EUVY5RwCa0D",
        "outputId": "7670491d-2593-4647-a068-12492a44bdfb"
      },
      "execution_count": 2,
      "outputs": [
        {
          "output_type": "stream",
          "name": "stdout",
          "text": [
            "Python version: sys.version_info(major=3, minor=7, micro=12, releaselevel='final', serial=0)\n",
            "Biopython version: 1.79\n"
          ]
        }
      ]
    },
    {
      "cell_type": "code",
      "source": [
        "#SESSÃO DE VARIAVEIS E DECLARAÇÕES\n",
        "palavra_chave_da_busca = 'cancer'#'NM_004333.4 c.2128-27C>T'\n",
        "qtde_artigos_retorno = 6\n",
        "retorno_acesso_api_pubmed = '' #retorno do acesso ao pubmed\n",
        "numero_de_artigos_disponiveis = '' \n",
        "xml_retorno = ''\n",
        "lista_de_PMID = []\n",
        "split_lista_de_PMID = []\n",
        "lista_info_artigo = ['ForeName', 'LastName', 'Initials', 'Affiliation', \\\n",
        "                    'Title', 'PMID', 'ISSNLinking','ELocationID', 'ArticleId', 'Year', 'Month', 'Day', \\\n",
        "                    'ArticleTitle', 'AbstractText', 'Language', 'Keyword']\n",
        "lista_PMID_ERRO = []\n",
        "dic_info_artigo = {}\n",
        "dict_informacoes_recebidas = {}\n",
        "COUNTDOWN = 1\n",
        "pmid_num = ''\n",
        "#sql_comando = '' #criar, armazenar_dadosbuscar, deletar, update_dados\n",
        "df_planilha = pd.DataFrame(columns=lista_info_artigo)\n",
        "#print(df)\n",
        "####FIM DA SESSÃO DE VARIAVEIS E DECLARAÇÕES\n",
        "\n",
        "\n"
      ],
      "metadata": {
        "id": "SjqmVdNnF65L"
      },
      "execution_count": 3,
      "outputs": []
    },
    {
      "cell_type": "code",
      "execution_count": 4,
      "metadata": {
        "id": "6V4b0qpkyct0"
      },
      "outputs": [],
      "source": [
        "### FUNÇÕES PARA API PUBMED ##########################\n",
        "def get_abstract_print(pmid):\n",
        "    try:\n",
        "        handle = Entrez.efetch(db='pubmed', id=pmid, retmode='text', rettype='abstract')\n",
        "        abstract_txt = handle.read()\n",
        "        #print(x)\n",
        "        return abstract_txt\n",
        "        \n",
        "    except InterruptedError:\n",
        "        return None\n",
        "                            \n",
        "\n",
        "def get_abstract_info(pmid):\n",
        "    try:\n",
        "        handle = Entrez.efetch(db='pubmed', id=pmid, retmode='xml')\n",
        "        xml_data = handle.read()\n",
        "        return xml_data\n",
        "\n",
        "    except InterruptedError:\n",
        "        return None\n",
        "    \n",
        "def get_abstract(palavra_chave, qtde_artigos_retorno):\n",
        "    try:\n",
        "        handle = Entrez.esearch(db='pubmed', retmax=qtde_artigos_retorno, sort='relevance', term=palavra_chave)\n",
        "        record = Entrez.read(handle)\n",
        "        #first = record[\"IdList\"][0]\n",
        "        lista_de_pmids = record['IdList']\n",
        "        numero_artigos_localizados = record.get('Count')\n",
        "        #numero_artigos_lista = int(len(record['IdList']))\n",
        "        return numero_artigos_localizados, lista_de_pmids\n",
        "\n",
        "    except InterruptedError:\n",
        "        return None\n",
        "\n",
        "#print('numero de artigos encontrados: ' + str(len(record))) # this matches http://www.ncbi.nlm.nih.gov/pubmed/?term=pyramidal%20cell\n",
        "\n",
        "def localiza_atributos(xml_data):\n",
        "  lista_aux = []\n",
        "  dict_aux = {}\n",
        "  root = et.fromstring(xml_data)\n",
        "    \n",
        "    #print(xml_data)\n",
        "    #for item_list_atributos in list_atributos:\n",
        "    #    if item_list_atributos == list_atributos[1]:\n",
        "    #       print(lista_aux)\n",
        "    #        x = len(lista_aux)\n",
        "    #        print('numero de autores = ' + str(x))\n",
        "    #        lista_aux.append(x)\n",
        "    #        next\n",
        "\n",
        "  for colname in lista_info_artigo:\n",
        "      element = root.iter(colname)\n",
        "      #print('------------------------')\n",
        "      #print(\"coluna nome: \" + str(colname))\n",
        "\n",
        "      for sub_element in element:\n",
        "\n",
        "        lista_aux.append(sub_element.text)    \n",
        "        \n",
        "        \n",
        "          #lista_aux.append(str(sub_element.text).replace(\"'\", \"\")[1:-1])\n",
        "      #print('lista aux: ' + str(lista_aux))\n",
        "      dict_aux[colname] = str(lista_aux).replace(\"'\", \"\")[1:-1]\n",
        "      #df = df.append(pd.DataFrame(lista_aux, columns=[colname]))\n",
        "      #print('------------------------------------')\n",
        "      lista_aux.clear()\n",
        "      \n",
        "  return dict_aux\n",
        "      \n",
        "          #dic_return_valores[colname] = str(lista_aux).replace(\"'\", \"\")[1:-1] #.strip('[]')"
      ]
    },
    {
      "cell_type": "code",
      "source": [
        "######### INICIO DO PROGRAMA CLASSE THREAD SERVE PARA CHAMAR UMA NOVA INSTANCIA A CADA BUSCA ######################################\n",
        "class Th(Thread):\n",
        "\n",
        "    def __init__ (self, num): #, pmid_num):\n",
        "        sys.stdout.write(\"Abrindo a thread numero -> \" + str(num) + \"\\n\")\n",
        "        sys.stdout.flush()\n",
        "        Thread.__init__(self)\n",
        "        #self.pmid_num = pmid_num\n",
        "        self.num = num\n",
        "        self.countdown = COUNTDOWN\n",
        "        time.sleep(1)\n",
        "        #print('\\n')\n",
        "\n",
        "    def run(self):\n",
        "      \n",
        "      xml_retorno = get_abstract_info(self.num) #recebe o xml_data por pmid\n",
        "      #, item_lista_info_artigo))\n",
        "      global df_planilha\n",
        "      dicionario1 = localiza_atributos(xml_retorno)\n",
        "      print('-----------------------'+'\\n'+' dicionario retorno: '+ str(dicionario1))\n",
        "      #tags = {}\n",
        "      #tags[\"tags\"].append(dicionario1)\n",
        "      \n",
        "      df = pd.DataFrame([dicionario1], index=[0])\n",
        "      df_planilha = df_planilha.append(df)\n",
        "\n",
        "      #print(df.head())\n",
        "      #df.apply(localiza_atributos(xml_retorno), axis=1)\n",
        "      \n",
        "\n",
        "      if xml_retorno == None: \n",
        "        print('erro ao tentar obter o xml_data de: ' + str(self.num))\n",
        "      else: \n",
        "        exit(0)\n",
        "   \n",
        "        print('------------------------------------------------------ ok ' + str(self.num))"
      ],
      "metadata": {
        "id": "1aBv1HdYJIyA"
      },
      "execution_count": 5,
      "outputs": []
    },
    {
      "cell_type": "code",
      "source": [
        "\n",
        "## O CODIGO COMEÇA AQUI  \n",
        "if (palavra_chave_da_busca) and (int(len(palavra_chave_da_busca)) < 15):\n",
        "    numero_de_artigos_disponiveis, lista_de_PMID = get_abstract(palavra_chave_da_busca, qtde_artigos_retorno)\n",
        "    print('numero de artigos encontrados: ' + str(numero_de_artigos_disponiveis))\n",
        "    print('numero de artigos selecionados: ' + str(qtde_artigos_retorno))\n",
        "    print(lista_de_PMID)\n",
        "\n",
        "    #tratamento de falha!\n",
        "if (int(numero_de_artigos_disponiveis) == 0): # or (numero_de_artigos_disponiveis == None): \n",
        "    print('nada encontrado ou erro de acesso   =P')\n",
        "    exit(0) \n",
        "\n",
        "for PMID in lista_de_PMID:\n",
        "    pmid_artigo = PMID\n",
        "    print(pmid_artigo)\n",
        "    thread_number = PMID\n",
        "    thread = Th(thread_number)\n",
        "    #thread.start()\n",
        "    thread.run()\n",
        "    print('thread: '+ str(PMID) + ' concluida com sucesso!')\n",
        "    print('resultado df:')\n",
        "    print(df_planilha.head())\n"
      ],
      "metadata": {
        "colab": {
          "base_uri": "https://localhost:8080/"
        },
        "id": "R0WmkcRRCoCq",
        "outputId": "5a8c8907-3cb6-41cc-a041-c6340e911f78"
      },
      "execution_count": 6,
      "outputs": [
        {
          "output_type": "stream",
          "name": "stdout",
          "text": [
            "numero de artigos encontrados: 4470613\n",
            "numero de artigos selecionados: 6\n",
            "['31622130', '32682319', '34606625', '32142393', '32469081', '33423008']\n",
            "31622130\n",
            "Abrindo a thread numero -> 31622130\n",
            "-----------------------\n",
            " dicionario retorno: {'ForeName': 'Lucie M, Qi, Yutaka, Tara O, Todd M, Wendy, Michael A, Rebecca M, Daniel M, Gregory T, Leslie L, Joseph P', 'LastName': 'Turcotte, Liu, Yasui, Henderson, Gibson, Leisenring, Arnold, Howell, Green, Armstrong, Robison, Neglia', 'Initials': 'LM, Q, Y, TO, TM, W, MA, RM, DM, GT, LL, JP', 'Affiliation': 'University of Minnesota Medical School, Minneapolis, MN., University of Alberta School of Public Health, Edmonton, Alberta, Canada., \"St Jude Childrens Research Hospital, Memphis, TN.\", University of Chicago, Chicago, IL., \"St Jude Childrens Research Hospital, Memphis, TN.\", Fred Hutchinson Cancer Research Center, Seattle, WA., Ohio State University, Columbus, OH., University of Texas MD Anderson Cancer Center, Houston, TX., \"St Jude Childrens Research Hospital, Memphis, TN.\", \"St Jude Childrens Research Hospital, Memphis, TN.\", \"St Jude Childrens Research Hospital, Memphis, TN.\", University of Minnesota Medical School, Minneapolis, MN.', 'Title': 'Journal of clinical oncology : official journal of the American Society of Clinical Oncology', 'PMID': '31622130', 'ISSNLinking': '0732-183X', 'ELocationID': '10.1200/JCO.19.00129', 'ArticleId': '31622130, 10.1200/JCO.19.00129, PMC7001784, 28530852, 23515901, 23940101, 16421424, 17312307, 22665546, 26761625, 22038641, 26700127, 29076966, 18064739, 27984644, 19996459, 24043737, 3910223, 19364948, 23418018, 29847298, 21642683, 22795729, 1581717, 20634481, 19364957, 1944468, 9929525, 28245323, 22665813, 25693770', 'Year': '2020, 2020, 2019, 2019, 2019, 2020, 2019', 'Month': '06, 07, 12, 10, 10, 6, 10', 'Day': '22, 14, 01, 17, 18, 23, 18', 'ArticleTitle': 'Chemotherapy and Risk of Subsequent Malignant Neoplasms in the Childhood Cancer Survivor Study Cohort.', 'AbstractText': 'Therapeutic radiation in childhood cancer has decreased over time with a concomitant increase in chemotherapy. Limited data exist on chemotherapy-associated subsequent malignant neoplasm (SMN) risk., SMNs occurring > 5 years from diagnosis, excluding nonmelanoma skin cancers, were evaluated in survivors diagnosed when they were < 21 years old, from 1970 to 1999 in the Childhood Cancer Survivor Study (median age at diagnosis, 7.0 years; median age at last follow-up, 31.8 years). Thirty-year SMN cumulative incidence and standardized incidence ratios (SIRs) were estimated by treatment: chemotherapy-only (n = 7,448), chemotherapy plus radiation (n = 10,485), radiation only (n = 2,063), or neither (n = 2,158). Multivariable models were used to assess chemotherapy-associated SMN risk, including dose-response relationships., Of 1,498 SMNs among 1,344 survivors, 229 occurred among 206 survivors treated with chemotherapy only. Thirty-year SMN cumulative incidence was 3.9%, 9.0%, 10.8%, and 3.4% for the chemotherapy-only, chemotherapy plus radiation, radiation-only, or neither-treatment groups, respectively. Chemotherapy-only survivors had a 2.8-fold increased SMN risk compared with the general population (95% CI, 2.5 to 3.2), with SIRs increased for subsequent leukemia/lymphoma (1.9; 95% CI, 1.3 to 2.7), breast cancer (4.6; 95% CI, 3.5 to 6.0), soft-tissue sarcoma (3.4; 95% CI, 1.9 to 5.7), thyroid cancer (3.8; 95% CI, 2.7 to 5.1), and melanoma (2.3; 95% CI, 1.5 to 3.5). SMN rate was associated with > 750 mg/m, Childhood cancer survivors treated with chemotherapy only, particularly higher cumulative doses of platinum and alkylating agents, face increased SMN risk. Linear dose responses were seen between alkylating agents and SMN rates and between anthracyclines and breast cancer rates. Limiting cumulative doses and consideration of alternate chemotherapies may reduce SMN risk.', 'Language': 'eng', 'Keyword': ''}\n",
            "resultado df:\n",
            "                                            ForeName  ... Keyword\n",
            "0  Lucie M, Qi, Yutaka, Tara O, Todd M, Wendy, Mi...  ...        \n",
            "\n",
            "[1 rows x 16 columns]\n",
            "------------------------------------------------------ ok 31622130\n",
            "thread: 31622130 concluida com sucesso!\n",
            "32682319\n",
            "Abrindo a thread numero -> 32682319\n",
            "-----------------------\n",
            " dicionario retorno: {'ForeName': 'Andrea, Tomáš, Marta, Běla, Aleš, Jarmila', 'LastName': 'Zichová, Eckschlager, Ganevová, Malinová, Lukš, Kruseová', 'Initials': 'A, T, M, B, A, J', 'Affiliation': 'Departement of Pediatric Hematology and Oncology, 2(nd) Medical Faculty, Charles University and Motol University Hospital, V Uvalu 84, 150 06, Prague 5, Czech Republic., Departement of Pediatric Hematology and Oncology, 2(nd) Medical Faculty, Charles University and Motol University Hospital, V Uvalu 84, 150 06, Prague 5, Czech Republic. Electronic address: Tomas.Eckschlager@lfmotol.cuni.cz., Departement of Pediatric Hematology and Oncology, 2(nd) Medical Faculty, Charles University and Motol University Hospital, V Uvalu 84, 150 06, Prague 5, Czech Republic., Departement of Oncology, 2(nd) Medical Faculty, Charles University and Motol University Hospital, V Uvalu 84, 150 06, Prague 5, Czech Republic., Departement of Pediatric Hematology and Oncology, 2(nd) Medical Faculty, Charles University and Motol University Hospital, V Uvalu 84, 150 06, Prague 5, Czech Republic., Departement of Pediatric Hematology and Oncology, 2(nd) Medical Faculty, Charles University and Motol University Hospital, V Uvalu 84, 150 06, Prague 5, Czech Republic.', 'Title': 'Cancer epidemiology', 'PMID': '32682319', 'ISSNLinking': '1877-7821', 'ELocationID': 'S1877-7821(20)30113-2, 10.1016/j.canep.2020.101779', 'ArticleId': '32682319, S1877-7821(20)30113-2, 10.1016/j.canep.2020.101779', 'Year': '2021, 2021, 2020, 2020, 2020, 2020, 2020, 2020, 2021, 2020', 'Month': '01, 01, 10, 07, 03, 06, 07, 7, 1, 7', 'Day': '25, 25, 15, 22, 26, 04, 19, 26, 19', 'ArticleTitle': 'Subsequent neoplasms in childhood cancer survivors.', 'AbstractText': 'The aim of the study was to characterize subsequent neoplasm (SN) (malignant (SMN), benign (BSNs), and non-melanoma skin cancer (NMSC)) treated previously for a childhood solid malignant tumor at the Department of Pediatric Hematology and Oncology, Motol University Hospital, Prague., We evaluated a cohort of 4059 childhood cancer survivors treated between 1975 and 2018., From 4059 survivors, 170 (4.3 %) developed at least one SMN - 193 SMNs in 170 survivors, 21 of them (0.5 % of all survivors) had two or more SMNs and 34 of them (0.8 %) had one SMN and one or more BSNs. Mortality for an SMN was 38.2 % i.e. 1.6 % of all survivors. The most frequent SMNs were thyroid carcinoma (37, 19.2 %), tumors of the central nervous system (25, 13.0 %), soft tissue sarcoma (23, 11.9 %), breast carcinoma (19, 9.8 %), and leukemia (11, 5.7 %). Genetic syndromes were present in 25 patients with SMNs (14.7 %) and in 16 patients with only BSNs (13.4 %). SMNs usually developed in second decade or later after finishing of therapy. We observed some not well known risk factors of SNs e.g. spinal irradiation or, We confirmed data from previous studies of SNs and observed some not so well known risk factors. Our results and the literature show that the incidence of SMNs is 3-10 % of survivors and is associated with high mortality.', 'Language': 'eng', 'Keyword': 'Genetic syndromes with increased risk of cancer, Long-term childhood cancer survivors, Subsequent benign neoplasm, Subsequent malignant neoplasm, Subsequent non-melanoma skin cancer'}\n",
            "resultado df:\n",
            "                                    ForeName  ...                                            Keyword\n",
            "0  Andrea, Tomáš, Marta, Běla, Aleš, Jarmila  ...  Genetic syndromes with increased risk of cance...\n",
            "\n",
            "[1 rows x 16 columns]\n",
            "------------------------------------------------------ ok 32682319\n",
            "thread: 32682319 concluida com sucesso!\n",
            "34606625\n",
            "Abrindo a thread numero -> 34606625\n",
            "-----------------------\n",
            " dicionario retorno: {'ForeName': 'Tara O, Brynn W, Haley A, Paul C, Jillian, Wendy M, Kevin C, Joseph P, Lucie M, Michael A, Miriam R, Rebecca M, Leslie L, Gregory T, Kenneth A', 'LastName': 'Henderson, Fowler, Hamann, Nathan, Whitton, Leisenring, Oeffinger, Neglia, Turcotte, Arnold, Conces, Howell, Robison, Armstrong, Alexander', 'Initials': 'TO, BW, HA, PC, J, WM, KC, JP, LM, MA, MR, RM, LL, GT, KA', 'Affiliation': '\"Department of Pediatrics, University of Chicago Comer Childrens Hospital, Chicago, Illinois.\", \"Department of Pediatrics, University of Chicago Comer Childrens Hospital, Chicago, Illinois.\", \"Department of Pediatrics, University of Chicago Comer Childrens Hospital, Chicago, Illinois.\", Hematology/Oncology, The Hospital for Sick Children, Toronto, Ontario, Canada., Fred Hutchinson Cancer Research Center, Seattle, Washington., Fred Hutchinson Cancer Research Center, Seattle, Washington., Duke Cancer Institute, Duke University, Durham, North Carolina., Pediatric Hematology, Oncology, Blood and Marrow Transplantation, University of Minnesota, Minneapolis, Minnesota., Pediatric Hematology, Oncology, Blood and Marrow Transplantation, University of Minnesota, Minneapolis, Minnesota., \"Department of Pathology, Childrens Hospital of Colorado, University of Colorado, Denver, Colorado.\", \"Department of Pathology and Laboratory Medicine, Nationwide Childrens Hospital, Columbus, Ohio.\", Radiation Physics, The University of Texas MD Anderson Cancer Center, Houston, Texas., \"Department of Epidemiology and Cancer Control, St Jude Childrens Research Hospital, Memphis, Tennessee.\", \"Department of Epidemiology and Cancer Control, St Jude Childrens Research Hospital, Memphis, Tennessee.\", \"Pediatric Infectious Diseases, Nemours Childrens Hospital, Orlando, Florida.\"', 'Title': 'Cancer, References', 'PMID': '34606625', 'ISSNLinking': '0008-543X', 'ELocationID': '10.1002/cncr.33922', 'ArticleId': '34606625, 10.1002/cncr.33922', 'Year': '2021, 2021, 2021, 2021, 2021, 2021, 2021, 2021, 2021', 'Month': '10, Oct, 10, 06, 04, 07, 10, 10, 10', 'Day': '04, 04, 04, 30, 05, 06, 4, 5, 5', 'ArticleTitle': 'Subsequent malignant neoplasms in the childhood cancer survivor study: Occurrence of cancer types in which human papillomavirus is an established etiologic risk factor.', 'AbstractText': 'Human papillomavirus (HPV)-associated subsequent malignant neoplasms (SMN, The cumulative risk of SMN, In total, 46 survivors developed an SMN, Childhood cancer survivors are at increased risk for SMN in sites susceptible to HPV-associated malignancies. Further research examining HPV in the etiology of SMN and the promotion of HPV vaccination and surveillance guidelines for SMN', 'Language': 'eng', 'Keyword': 'cancer survivors, early detection of cancer, human papillomavirus (HPV)-associated malignancy, pediatric cancer, subsequent malignant neoplasms, survivorship care'}\n",
            "resultado df:\n",
            "                                            ForeName  ...                                            Keyword\n",
            "0  Tara O, Brynn W, Haley A, Paul C, Jillian, Wen...  ...  cancer survivors, early detection of cancer, h...\n",
            "\n",
            "[1 rows x 16 columns]\n",
            "------------------------------------------------------ ok 34606625\n",
            "thread: 34606625 concluida com sucesso!\n",
            "32142393\n",
            "Abrindo a thread numero -> 32142393\n",
            "-----------------------\n",
            " dicionario retorno: {'ForeName': 'Adam P, Yan, Tara O, Kevin C, Melissa M, Todd M, Joseph P, Wendy M, Kirsten K, Jennifer S, Leslie L, Gregory T, Yutaka, Paul C', 'LastName': 'Yan, Chen, Henderson, Oeffinger, Hudson, Gibson, Neglia, Leisenring, Ness, Ford, Robison, Armstrong, Yasui, Nathan', 'Initials': 'AP, Y, TO, KC, MM, TM, JP, WM, KK, JS, LL, GT, Y, PC', 'Affiliation': 'The Hospital for Sick Children, Toronto, Ontario, Canada., University of Alberta, Calgary, Alberta, Canada., University of Chicago, Chicago, IL., Duke Cancer Institute, Durham, NC., \"St Jude Childrens Research Hospital, Memphis, TN.\", \"St Jude Childrens Research Hospital, Memphis, TN.\", University of Minnesota, Minneapolis, MN., Fred Hutchinson Cancer Research Center, Seattle, WA., \"St Jude Childrens Research Hospital, Memphis, TN.\", Hunter College and the Graduate Center of the City University of New York, New York, NY., \"St Jude Childrens Research Hospital, Memphis, TN.\", \"St Jude Childrens Research Hospital, Memphis, TN.\", University of Alberta, Calgary, Alberta, Canada., \"St Jude Childrens Research Hospital, Memphis, TN.\", The Hospital for Sick Children, Toronto, Ontario, Canada.', 'Title': 'Journal of clinical oncology : official journal of the American Society of Clinical Oncology', 'PMID': '32142393', 'ISSNLinking': '0732-183X', 'ELocationID': '10.1200/JCO.19.01825', 'ArticleId': '32142393, 10.1200/JCO.19.01825, PMC7357338, 20921543, 26747086, 11920786, 10977762, 14506117, 24304873, 24842624, 29476707, 29447422, 24573662, 29775389, 25873142, 23471729, 27501770, 26933010, 30289736, 25366684, 26485107, 25948413, 11896111, 14652278, 27820947, 28245323', 'Year': '2021, 2021, 2020, 2020, 2020, 2021, 2020', 'Month': '01, 05, 05, 03, 3, 1, 3', 'Day': '29, 21, 20, 06, 7, 30, 7', 'ArticleTitle': 'Adherence to Surveillance for Second Malignant Neoplasms and Cardiac Dysfunction in Childhood Cancer Survivors: A Childhood Cancer Survivor Study.', 'AbstractText': '\"To evaluate childhood cancer survivors adherence to surveillance protocols for late effects of treatment and to determine the factors affecting adherence.\", \"Between 2014 and 2016, 11,337 survivors and 2,146 siblings in the Childhood Cancer Survivor Study completed a survey ascertaining adherence to Childrens Oncology Group (COG) guidelines for survivors at high risk for second malignant neoplasms or cardiac dysfunction and to the American Cancer Society (ACS) cancer screening guidelines for average-risk populations. Adherence rates and factors affecting adherence were analyzed.\", Median age at diagnosis was 7 years (range, 0-20.9 years), and median time from diagnosis was 29 years (range, 15-47 years). Among high-risk survivors, adherence to COG breast, colorectal, skin, and cardiac surveillance was 12.6% (95% CI, 10.0% to 15.3%), 37.0% (34.1% to 39.9%), 22.3% (21.2% to 23.4%), and 41.4% (40.1% to 42.7%), respectively. Among average-risk survivors, adherence to ACS breast, cervical, and colorectal screening was 57.1% (53.2% to 61.0%), 83.6% (82.7% to 84.5%), and 68.5% (64.7% to 72.2%), respectively. Twenty-seven percent of survivors and 20.0% of primary care providers (PCPs) had a survivorship care plan (SCP). For high-risk survivors, SCP possession was associated with increased adherence to COG breast (22.3% , Guideline adherence is suboptimal. Although survivor SCP possession is associated with better adherence, few survivors and PCPs have one. New strategies to improve adherence are needed.', 'Language': 'eng', 'Keyword': ''}\n",
            "resultado df:\n",
            "                                            ForeName  ... Keyword\n",
            "0  Adam P, Yan, Tara O, Kevin C, Melissa M, Todd ...  ...        \n",
            "\n",
            "[1 rows x 16 columns]\n",
            "------------------------------------------------------ ok 32142393\n",
            "thread: 32142393 concluida com sucesso!\n",
            "32469081\n",
            "Abrindo a thread numero -> 32469081\n",
            "-----------------------\n",
            " dicionario retorno: {'ForeName': 'Jeremy M, Tania A, Wendy N, Peter H, Robert E, Mark A, Sonja A, Tiffany M, Logan G, Sharon E, Philip J', 'LastName': 'Schraw, Desrosiers, Nembhard, Langlois, Meyer, Canfield, Rasmussen, Chambers, Spector, Plon, Lupo', 'Initials': 'JM, TA, WN, PH, RE, MA, SA, TM, LG, SE, PJ', 'Affiliation': 'Department of Medicine, Baylor College of Medicine, Houston, Texas., Center for Epidemiology and Population Health, Baylor College of Medicine, Houston, Texas., Department of Epidemiology, University of North Carolina, Chapel Hill, North Carolina., Department of Epidemiology, University of Arkansas for Medical Sciences, Little Rock, Arkansas., Birth Defects Epidemiology and Surveillance Branch, Department of State Health Services, Austin, Texas., Department of Maternal and Child Health, University of North Carolina, Chapel Hill, North Carolina., State Center for Health Statistics, North Carolina Division of Public Health, Raleigh, North Carolina., Birth Defects Epidemiology and Surveillance Branch, Department of State Health Services, Austin, Texas., Department of Pediatrics, University of Florida College of Medicine, Gainesville, Florida., Department of Epidemiology, University of Florida College of Medicine and College of Public Health and Health Professions, Gainesville, Florida., Center for Epidemiology and Population Health, Baylor College of Medicine, Houston, Texas., Department of Pediatrics, Baylor College of Medicine, Houston, Texas., Department of Pediatrics, University of Minnesota, Minneapolis, Minnesota., Department of Pediatrics, Baylor College of Medicine, Houston, Texas., Department of Molecular and Human Genetics, Baylor College of Medicine, Houston, Texas., Department of Medicine, Baylor College of Medicine, Houston, Texas., Center for Epidemiology and Population Health, Baylor College of Medicine, Houston, Texas., Department of Pediatrics, Baylor College of Medicine, Houston, Texas.', 'Title': 'Cancer', 'PMID': '32469081', 'ISSNLinking': '0008-543X', 'ELocationID': '10.1002/cncr.32982', 'ArticleId': '32469081, 10.1002/cncr.32982, PMC8485389, NIHMS1742315, 6487728, 20870734, 22559061, 26304823, 29093018, 30328285, 22518179, 22134537, 18296646, 22244463, 26945683, 30933244, 17051527, 28594943, 24222333, 31219523, 28851129, 28336146, 3155484, 31606679, 29921024, 26499980, 25382669, 15770693, 29037343, 30500322, 29462129, 20878909, 32055852, 27683733, 28749971, 23874873, 30016023, 23754574, 24657225, 22692949, 31350568', 'Year': '2021, 2021, 2020, 2020, 2019, 2020, 2020, 2020, 2021, 2020', 'Month': '05, 10, 08, 05, 10, 04, 05, 5, 5, 5', 'Day': '20, 02, 01, 29, 18, 27, 01, 30, 21, 30', 'ArticleTitle': 'Cancer diagnostic profile in children with structural birth defects: An assessment in 15,000 childhood cancer cases.', 'AbstractText': 'Birth defects are established risk factors for childhood cancer. Nonetheless, cancer epidemiology in children with birth defects is not well characterized., Using data from population-based registries in 4 US states, this study compared children with cancer but no birth defects (n\\\\xa0=\\\\xa013,111) with children with cancer and 1 or more nonsyndromic birth defects (n\\\\xa0=\\\\xa01616). The objective was to evaluate cancer diagnostic characteristics, including tumor type, age at diagnosis, and stage at diagnosis., Compared with the general population of children with cancer, children with birth defects were diagnosed with more embryonal tumors (26.6% vs 18.7%; q\\\\xa0<\\\\xa00.001), including neuroblastoma (12.5% vs 8.2%; q\\\\xa0<\\\\xa00.001) and hepatoblastoma (5.0% vs 1.3%; q\\\\xa0<\\\\xa00.001), but fewer hematologic malignancies, including acute lymphoblastic leukemia (12.4% vs 24.4%; q\\\\xa0<\\\\xa00.001). In age-stratified analyses, differences in tumor type were evident among children younger than 1\\\\xa0year and children 1 to 4\\\\xa0years old, but they were attenuated among children 5 years of age or older. The age at diagnosis was younger in children with birth defects for most cancers, including leukemia, lymphoma, astrocytoma, medulloblastoma, ependymoma, embryonal tumors, and germ cell tumors (all q\\\\xa0<\\\\xa00.05)., The results indicate possible etiologic heterogeneity in children with birth defects, have implications for future surveillance efforts, and raise the possibility of differential cancer ascertainment in children with birth defects., Scientific studies suggest that children with birth defects are at increased risk for cancer. However, these studies have not been able to determine whether important tumor characteristics, such as the type of tumor diagnosed, the age at which the tumor is diagnosed, and the degree to which the tumor has spread at the time of diagnosis, are different for children with birth defects and children without birth defects. This study attempts to answer these important questions. By doing so, it may help scientists and physicians to understand the causes of cancer in children with birth defects and diagnose cancer at earlier stages when it is more treatable.', 'Language': 'eng', 'Keyword': 'birth defects, cancer predisposition, childhood cancer, epidemiology'}\n",
            "resultado df:\n",
            "                                            ForeName  ...                                            Keyword\n",
            "0  Jeremy M, Tania A, Wendy N, Peter H, Robert E,...  ...  birth defects, cancer predisposition, childhoo...\n",
            "\n",
            "[1 rows x 16 columns]\n",
            "------------------------------------------------------ ok 32469081\n",
            "thread: 32469081 concluida com sucesso!\n",
            "33423008\n",
            "Abrindo a thread numero -> 33423008\n",
            "-----------------------\n",
            " dicionario retorno: {'ForeName': 'Nicolas, Fabiën N, Shelagh, Christina, Ben D, Jochen, Marc, Claudia E, Marc, Maja, Jean-Pierre, Pierluigi, Jeanette, Jochen, Katrin, Freimut, Nicolas', 'LastName': 'Waespe, Belle, Redmond, Schindera, Spycher, Rössler, Ansari, Kuehni, Ansari, Beck-Popovic, Bourquin, Brazzola, Greiner, Rössler, Scheinemann, Schilling, von der Weid', 'Initials': 'N, FN, S, C, BD, J, M, CE, M, M, JP, P, J, J, K, F, N', 'Affiliation': 'Institute of Social and Preventive Medicine, University of Bern, Switzerland; Research Platform for Pediatric Oncology and Hematology (CANSEARCH Research Platform), Department of Pediatrics, Gynecology, and Obstetrics, University of Geneva, Switzerland., Institute of Social and Preventive Medicine, University of Bern, Switzerland; Centre universitaire de médecine générale et santé publique (UNISANTÉ), Institute of Social and Preventive Medicine (IUMSP), University of Lausanne, Switzerland., Institute of Social and Preventive Medicine, University of Bern, Switzerland., \"Institute of Social and Preventive Medicine, University of Bern, Switzerland; Division of Pediatric Oncology/ Hematology, University Childrens Hospital Basel, University of Basel, Switzerland.\", Institute of Social and Preventive Medicine, University of Bern, Switzerland., Division of Pediatric Hematology and Oncology, University Children`s Hospital Bern, Switzerland., Research Platform for Pediatric Oncology and Hematology (CANSEARCH Research Platform), Department of Pediatrics, Gynecology, and Obstetrics, University of Geneva, Switzerland; Department of Pediatrics, Pediatric Oncology and Hematology Unit, Geneva University Hospitals, Geneva, Switzerland., Institute of Social and Preventive Medicine, University of Bern, Switzerland; Division of Pediatric Hematology and Oncology, University Children`s Hospital Bern, Switzerland. Electronic address: claudia.kuehni@ispm.unibe.ch.', 'Title': 'European journal of cancer (Oxford, England : 1990)', 'PMID': '33423008', 'ISSNLinking': '0959-8049', 'ELocationID': 'S0959-8049(20)31379-4, 10.1016/j.ejca.2020.11.042', 'ArticleId': '33423008, S0959-8049(20)31379-4, 10.1016/j.ejca.2020.11.042', 'Year': '2021, 2021, 2021, 2021, 2020, 2020, 2020, 2021, 2021, 2021', 'Month': '09, 09, 03, 01, 08, 10, 11, 1, 9, 1', 'Day': '20, 20, 07, 17, 17, 23, 11, 21, 10', 'ArticleTitle': 'Cancer predisposition syndromes as a risk factor for early second primary neoplasms after childhood cancer - A national cohort study.', 'AbstractText': 'Childhood cancer patients are at increased risk of second primary neoplasms (SPNs). We assessed incidence and risk factors for early SPNs with a focus on cancer predisposition syndromes (CPSs)., This cohort study used data from the Swiss Childhood Cancer Registry. We included patients with first primary neoplasms (FPNs) diagnosed before age 21 years from 1986 to 2015 and identified SPNs occurring before age 21. We calculated standardised incidence ratios (SIRs) and absolute excess risks (AERs) using Swiss population cancer incidence data, and cumulative incidence of SPNs. We calculated hazard ratios (HRs) of risk factors for SPNs using Fine and Gray competing risk regression., Among 8074 childhood cancer patients, 304 (4%) were diagnosed with a CPS and 94 (1%) developed early SPNs. The incidence of SPNs was more than 10-fold higher in childhood cancer patients than the incidence of neoplasms in the general population (SIR = 10.6, 95% confidence interval [CI]: 8.7-13.1) and the AER was 179/100,000 person-years (CI: 139-219). Cumulative incidence of SPNs 20 years after FPN diagnosis was 23% in patients with CPSs (CI: 12-41%) and 2.7% in those without (CI: 2.0-3.6%). Risk factors for SPNs were CPSs (HR = 7.8, CI: 4.8-12.7), chemotherapy (HR = 2.2, CI: 1.1-4.6), radiotherapy (HR = 1.9, CI = 1.2-2.9), haematopoietic stem cell transplantation (HR = 1.8, CI: 1-3.3), and older age (15-20 years) at FPN diagnosis (HR = 1.9, CI: 1.1-3.2)., CPSs are associated with a high risk of SPNs before age 21 years. Identification of CPSs is important for appropriate cancer surveillance and targeted screening.', 'Language': 'eng', 'Keyword': 'Adolescent medicine, Cancer survivors, Early detection of cancer, Genetic counselling, Genetic testing, Hereditary neoplastic syndromes, Neoplasms, Pediatrics, Second primary neoplasms, Swiss childhood cancer registry'}\n",
            "resultado df:\n",
            "                                            ForeName  ...                                            Keyword\n",
            "0  Nicolas, Fabiën N, Shelagh, Christina, Ben D, ...  ...  Adolescent medicine, Cancer survivors, Early d...\n",
            "\n",
            "[1 rows x 16 columns]\n",
            "------------------------------------------------------ ok 33423008\n",
            "thread: 33423008 concluida com sucesso!\n"
          ]
        }
      ]
    },
    {
      "cell_type": "code",
      "source": [
        ""
      ],
      "metadata": {
        "id": "N_5tg102LY9z"
      },
      "execution_count": 6,
      "outputs": []
    },
    {
      "cell_type": "code",
      "source": [
        ""
      ],
      "metadata": {
        "id": "SVG6GPszuRl8"
      },
      "execution_count": 6,
      "outputs": []
    }
  ]
}