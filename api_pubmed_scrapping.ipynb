{
  "nbformat": 4,
  "nbformat_minor": 0,
  "metadata": {
    "colab": {
      "name": "api_pubmed_scrapping.ipynb",
      "provenance": [],
      "collapsed_sections": [],
      "authorship_tag": "ABX9TyPiIVcnpOn8MbbeOVKfQBJU",
      "include_colab_link": true
    },
    "kernelspec": {
      "name": "python3",
      "display_name": "Python 3"
    },
    "language_info": {
      "name": "python"
    }
  },
  "cells": [
    {
      "cell_type": "markdown",
      "metadata": {
        "id": "view-in-github",
        "colab_type": "text"
      },
      "source": [
        "<a href=\"https://colab.research.google.com/github/douglascsantos/colab_analyse_text/blob/main/api_pubmed_scrapping.ipynb\" target=\"_parent\"><img src=\"https://colab.research.google.com/assets/colab-badge.svg\" alt=\"Open In Colab\"/></a>"
      ]
    },
    {
      "cell_type": "code",
      "source": [
        "try:\n",
        "  import google.colab\n",
        "  !pip install gspread\n",
        "  !pip install gspread-dataframe\n",
        "  !pip install gspread-formatting\n",
        "  !pip install --upgrade pandas --user\n",
        "  !pip install ipynb\n",
        "  !pip install biopython\n",
        "  !pip install pymed\n",
        "except ImportError:\n",
        "    pass"
      ],
      "metadata": {
        "colab": {
          "base_uri": "https://localhost:8080/"
        },
        "id": "aPeOW9pBy_mj",
        "outputId": "407cc3d7-5106-49ff-a563-ad61d689c501"
      },
      "execution_count": 7,
      "outputs": [
        {
          "output_type": "stream",
          "name": "stdout",
          "text": [
            "Requirement already satisfied: gspread in /usr/local/lib/python3.7/dist-packages (3.0.1)\n",
            "Requirement already satisfied: requests>=2.2.1 in /usr/local/lib/python3.7/dist-packages (from gspread) (2.23.0)\n",
            "Requirement already satisfied: chardet<4,>=3.0.2 in /usr/local/lib/python3.7/dist-packages (from requests>=2.2.1->gspread) (3.0.4)\n",
            "Requirement already satisfied: urllib3!=1.25.0,!=1.25.1,<1.26,>=1.21.1 in /usr/local/lib/python3.7/dist-packages (from requests>=2.2.1->gspread) (1.24.3)\n",
            "Requirement already satisfied: idna<3,>=2.5 in /usr/local/lib/python3.7/dist-packages (from requests>=2.2.1->gspread) (2.10)\n",
            "Requirement already satisfied: certifi>=2017.4.17 in /usr/local/lib/python3.7/dist-packages (from requests>=2.2.1->gspread) (2021.10.8)\n",
            "Requirement already satisfied: gspread-dataframe in /usr/local/lib/python3.7/dist-packages (3.0.8)\n",
            "Requirement already satisfied: gspread>=3.0.0 in /usr/local/lib/python3.7/dist-packages (from gspread-dataframe) (3.0.1)\n",
            "Requirement already satisfied: pandas>=0.14.0 in /root/.local/lib/python3.7/site-packages (from gspread-dataframe) (1.3.5)\n",
            "Requirement already satisfied: requests>=2.2.1 in /usr/local/lib/python3.7/dist-packages (from gspread>=3.0.0->gspread-dataframe) (2.23.0)\n",
            "Requirement already satisfied: python-dateutil>=2.7.3 in /usr/local/lib/python3.7/dist-packages (from pandas>=0.14.0->gspread-dataframe) (2.8.2)\n",
            "Requirement already satisfied: pytz>=2017.3 in /usr/local/lib/python3.7/dist-packages (from pandas>=0.14.0->gspread-dataframe) (2018.9)\n",
            "Requirement already satisfied: numpy>=1.17.3 in /usr/local/lib/python3.7/dist-packages (from pandas>=0.14.0->gspread-dataframe) (1.19.5)\n",
            "Requirement already satisfied: six>=1.5 in /usr/local/lib/python3.7/dist-packages (from python-dateutil>=2.7.3->pandas>=0.14.0->gspread-dataframe) (1.15.0)\n",
            "Requirement already satisfied: urllib3!=1.25.0,!=1.25.1,<1.26,>=1.21.1 in /usr/local/lib/python3.7/dist-packages (from requests>=2.2.1->gspread>=3.0.0->gspread-dataframe) (1.24.3)\n",
            "Requirement already satisfied: idna<3,>=2.5 in /usr/local/lib/python3.7/dist-packages (from requests>=2.2.1->gspread>=3.0.0->gspread-dataframe) (2.10)\n",
            "Requirement already satisfied: chardet<4,>=3.0.2 in /usr/local/lib/python3.7/dist-packages (from requests>=2.2.1->gspread>=3.0.0->gspread-dataframe) (3.0.4)\n",
            "Requirement already satisfied: certifi>=2017.4.17 in /usr/local/lib/python3.7/dist-packages (from requests>=2.2.1->gspread>=3.0.0->gspread-dataframe) (2021.10.8)\n",
            "Requirement already satisfied: pandas in /root/.local/lib/python3.7/site-packages (1.3.5)\n",
            "Requirement already satisfied: numpy>=1.17.3 in /usr/local/lib/python3.7/dist-packages (from pandas) (1.19.5)\n",
            "Requirement already satisfied: python-dateutil>=2.7.3 in /usr/local/lib/python3.7/dist-packages (from pandas) (2.8.2)\n",
            "Requirement already satisfied: pytz>=2017.3 in /usr/local/lib/python3.7/dist-packages (from pandas) (2018.9)\n",
            "Requirement already satisfied: six>=1.5 in /usr/local/lib/python3.7/dist-packages (from python-dateutil>=2.7.3->pandas) (1.15.0)\n",
            "Requirement already satisfied: ipynb in /usr/local/lib/python3.7/dist-packages (0.5.1)\n",
            "Requirement already satisfied: biopython in /usr/local/lib/python3.7/dist-packages (1.79)\n",
            "Requirement already satisfied: numpy in /usr/local/lib/python3.7/dist-packages (from biopython) (1.19.5)\n",
            "Requirement already satisfied: pymed in /usr/local/lib/python3.7/dist-packages (0.8.9)\n",
            "Requirement already satisfied: requests>=2.20.0 in /usr/local/lib/python3.7/dist-packages (from pymed) (2.23.0)\n",
            "Requirement already satisfied: certifi>=2017.4.17 in /usr/local/lib/python3.7/dist-packages (from requests>=2.20.0->pymed) (2021.10.8)\n",
            "Requirement already satisfied: urllib3!=1.25.0,!=1.25.1,<1.26,>=1.21.1 in /usr/local/lib/python3.7/dist-packages (from requests>=2.20.0->pymed) (1.24.3)\n",
            "Requirement already satisfied: idna<3,>=2.5 in /usr/local/lib/python3.7/dist-packages (from requests>=2.20.0->pymed) (2.10)\n",
            "Requirement already satisfied: chardet<4,>=3.0.2 in /usr/local/lib/python3.7/dist-packages (from requests>=2.20.0->pymed) (3.0.4)\n"
          ]
        }
      ]
    },
    {
      "cell_type": "code",
      "source": [
        "import os\n",
        "import sys\n",
        "from threading import Thread\n",
        "import time\n",
        "import xml.etree.ElementTree as et\n",
        "import pandas as pd\n",
        "\n",
        "from urllib.request import urlretrieve\n",
        "\n",
        "import Bio\n",
        "\n",
        "from Bio import SeqIO, SearchIO, Entrez\n",
        "#from Bio.Seq import Seq\n",
        "#from Bio.SeqUtils import GC\n",
        "#from Bio.Blast import NCBIWWW\n",
        "#from Bio.Data import CodonTable\n",
        "\n",
        "from google.colab import auth\n",
        "import gspread\n",
        "from oauth2client.client import GoogleCredentials\n",
        "import gspread_dataframe\n",
        "from gspread_dataframe import get_as_dataframe, set_with_dataframe\n",
        "import gspread_formatting\n",
        "from gspread_formatting.dataframe import format_with_dataframe\n",
        "\n",
        "\n",
        "\n",
        "Entrez.email = \"douglas.santos.mat@gmail.com\"\n",
        "Entrez.api_key = \"ce7112eb9027e9ffe673c980fea463c08c08\"\n",
        "\n",
        "print(\"Python version:\", sys.version_info)\n",
        "print(\"Biopython version:\", Bio.__version__)"
      ],
      "metadata": {
        "colab": {
          "base_uri": "https://localhost:8080/",
          "height": 374
        },
        "id": "7EUVY5RwCa0D",
        "outputId": "672a58ad-d102-4fc3-f248-022f2fbcfe60"
      },
      "execution_count": 8,
      "outputs": [
        {
          "output_type": "error",
          "ename": "ModuleNotFoundError",
          "evalue": "ignored",
          "traceback": [
            "\u001b[0;31m---------------------------------------------------------------------------\u001b[0m",
            "\u001b[0;31mModuleNotFoundError\u001b[0m                       Traceback (most recent call last)",
            "\u001b[0;32m<ipython-input-8-ececb48090ac>\u001b[0m in \u001b[0;36m<module>\u001b[0;34m()\u001b[0m\n\u001b[1;32m     21\u001b[0m \u001b[0;32mimport\u001b[0m \u001b[0mgspread_dataframe\u001b[0m\u001b[0;34m\u001b[0m\u001b[0;34m\u001b[0m\u001b[0m\n\u001b[1;32m     22\u001b[0m \u001b[0;32mfrom\u001b[0m \u001b[0mgspread_dataframe\u001b[0m \u001b[0;32mimport\u001b[0m \u001b[0mget_as_dataframe\u001b[0m\u001b[0;34m,\u001b[0m \u001b[0mset_with_dataframe\u001b[0m\u001b[0;34m\u001b[0m\u001b[0;34m\u001b[0m\u001b[0m\n\u001b[0;32m---> 23\u001b[0;31m \u001b[0;32mimport\u001b[0m \u001b[0mgspread_formatting\u001b[0m\u001b[0;34m\u001b[0m\u001b[0;34m\u001b[0m\u001b[0m\n\u001b[0m\u001b[1;32m     24\u001b[0m \u001b[0;32mfrom\u001b[0m \u001b[0mgspread_formatting\u001b[0m\u001b[0;34m.\u001b[0m\u001b[0mdataframe\u001b[0m \u001b[0;32mimport\u001b[0m \u001b[0mformat_with_dataframe\u001b[0m\u001b[0;34m\u001b[0m\u001b[0;34m\u001b[0m\u001b[0m\n\u001b[1;32m     25\u001b[0m \u001b[0;34m\u001b[0m\u001b[0m\n",
            "\u001b[0;31mModuleNotFoundError\u001b[0m: No module named 'gspread_formatting'",
            "",
            "\u001b[0;31m---------------------------------------------------------------------------\u001b[0;32m\nNOTE: If your import is failing due to a missing package, you can\nmanually install dependencies using either !pip or !apt.\n\nTo view examples of installing some common dependencies, click the\n\"Open Examples\" button below.\n\u001b[0;31m---------------------------------------------------------------------------\u001b[0m\n"
          ],
          "errorDetails": {
            "actions": [
              {
                "action": "open_url",
                "actionText": "Open Examples",
                "url": "/notebooks/snippets/importing_libraries.ipynb"
              }
            ]
          }
        }
      ]
    },
    {
      "cell_type": "code",
      "source": [
        "#SESSÃO DE VARIAVEIS E DECLARAÇÕES\n",
        "palavra_chave_da_busca = 'cancer'#'NM_004333.4 c.2128-27C>T'\n",
        "qtde_artigos_retorno = 20\n",
        "retorno_acesso_api_pubmed = '' #retorno do acesso ao pubmed\n",
        "numero_de_artigos_disponiveis = '' \n",
        "xml_retorno = ''\n",
        "lista_de_PMID = []\n",
        "split_lista_de_PMID = []\n",
        "lista_info_artigo = ['ForeName', 'LastName', 'Initials', 'Affiliation', \\\n",
        "                    'Title', 'PMID', 'ISSNLinking','ELocationID', 'ArticleId', 'Year', 'Month', 'Day', \\\n",
        "                    'ArticleTitle', 'AbstractText', 'Language', 'Keyword']\n",
        "lista_PMID_ERRO = []\n",
        "dic_info_artigo = {}\n",
        "dict_informacoes_recebidas = {}\n",
        "COUNTDOWN = 1\n",
        "pmid_num = ''\n",
        "#sql_comando = '' #criar, armazenar_dadosbuscar, deletar, update_dados\n",
        "df_planilha = pd.DataFrame(columns=lista_info_artigo)\n",
        "#print(df)\n",
        "####FIM DA SESSÃO DE VARIAVEIS E DECLARAÇÕES\n",
        "\n",
        "\n"
      ],
      "metadata": {
        "id": "SjqmVdNnF65L"
      },
      "execution_count": null,
      "outputs": []
    },
    {
      "cell_type": "code",
      "execution_count": null,
      "metadata": {
        "id": "6V4b0qpkyct0"
      },
      "outputs": [],
      "source": [
        "### FUNÇÕES PARA API PUBMED ##########################\n",
        "def get_abstract_print(pmid):\n",
        "    try:\n",
        "        handle = Entrez.efetch(db='pubmed', id=pmid, retmode='text', rettype='abstract')\n",
        "        abstract_txt = handle.read()\n",
        "        #print(x)\n",
        "        return abstract_txt\n",
        "        \n",
        "    except InterruptedError:\n",
        "        return None\n",
        "                            \n",
        "\n",
        "def get_abstract_info(pmid):\n",
        "    try:\n",
        "        handle = Entrez.efetch(db='pubmed', id=pmid, retmode='xml')\n",
        "        xml_data = handle.read()\n",
        "        return xml_data\n",
        "\n",
        "    except InterruptedError:\n",
        "        return None\n",
        "    \n",
        "def get_abstract(palavra_chave, qtde_artigos_retorno):\n",
        "    try:\n",
        "        handle = Entrez.esearch(db='pubmed', retmax=qtde_artigos_retorno, sort='relevance', term=palavra_chave)\n",
        "        record = Entrez.read(handle)\n",
        "        #first = record[\"IdList\"][0]\n",
        "        lista_de_pmids = record['IdList']\n",
        "        numero_artigos_localizados = record.get('Count')\n",
        "        #numero_artigos_lista = int(len(record['IdList']))\n",
        "        return numero_artigos_localizados, lista_de_pmids\n",
        "\n",
        "    except InterruptedError:\n",
        "        return None\n",
        "\n",
        "#print('numero de artigos encontrados: ' + str(len(record))) # this matches http://www.ncbi.nlm.nih.gov/pubmed/?term=pyramidal%20cell\n",
        "\n",
        "def localiza_atributos(xml_data):\n",
        "  lista_aux = []\n",
        "  dict_aux = {}\n",
        "  root = et.fromstring(xml_data)\n",
        "  \n",
        "  for colname in lista_info_artigo:\n",
        "      element = root.iter(colname)\n",
        "      #print('------------------------')\n",
        "      #print(\"coluna nome: \" + str(colname))\n",
        "\n",
        "      for sub_element in element:\n",
        "\n",
        "        lista_aux.append(sub_element.text)    \n",
        "        \n",
        "      dict_aux[colname] = str(lista_aux).replace(\"'\", \"\")[1:-1]\n",
        "      #df = df.append(pd.DataFrame(lista_aux, columns=[colname]))\n",
        "      #print('------------------------------------')\n",
        "      lista_aux.clear()\n",
        "      \n",
        "  return dict_aux"
      ]
    },
    {
      "cell_type": "code",
      "source": [
        "######### INICIO DO PROGRAMA CLASSE THREAD SERVE PARA CHAMAR UMA NOVA INSTANCIA A CADA BUSCA ######################################\n",
        "class Th(Thread):\n",
        "\n",
        "    def __init__ (self, num): #, pmid_num):\n",
        "        sys.stdout.write(\"Abrindo a thread numero -> \" + str(num) + \"\\n\")\n",
        "        sys.stdout.flush()\n",
        "        Thread.__init__(self)\n",
        "        #self.pmid_num = pmid_num\n",
        "        self.num = num\n",
        "        self.countdown = COUNTDOWN\n",
        "        time.sleep(1)\n",
        "        #print('\\n')\n",
        "\n",
        "    def run(self):\n",
        "      \n",
        "      xml_retorno = get_abstract_info(self.num) \n",
        "      global df_planilha\n",
        "      dicionario1 = localiza_atributos(xml_retorno)\n",
        "      #print('-----------------------'+'\\n'+' dicionario retorno: '+ str(dicionario1))\n",
        "      \n",
        "      df = pd.DataFrame([dicionario1], index=[0])\n",
        "      df_planilha = df_planilha.append(df)\n",
        "      df_planilha.reset_index(drop=True, inplace=True)     \n",
        "\n",
        "      if xml_retorno == None: \n",
        "        print('erro ao tentar obter o xml_data de: ' + str(self.num))\n",
        "      else: \n",
        "        exit(0)\n",
        "   \n",
        "       # print('------------------------------------------------------ ok ' + str(self.num))"
      ],
      "metadata": {
        "id": "1aBv1HdYJIyA"
      },
      "execution_count": null,
      "outputs": []
    },
    {
      "cell_type": "code",
      "source": [
        "\n",
        "## O CODIGO COMEÇA AQUI  \n",
        "if (palavra_chave_da_busca) and (int(len(palavra_chave_da_busca)) < 15):\n",
        "    numero_de_artigos_disponiveis, lista_de_PMID = get_abstract(palavra_chave_da_busca, qtde_artigos_retorno)\n",
        "    print('numero de artigos encontrados: ' + str(numero_de_artigos_disponiveis))\n",
        "    print('numero de artigos selecionados: ' + str(qtde_artigos_retorno))\n",
        "    print(lista_de_PMID)\n",
        "\n",
        "    #tratamento de falha!\n",
        "if (int(numero_de_artigos_disponiveis) == 0): # or (numero_de_artigos_disponiveis == None): \n",
        "    print('nada encontrado ou erro de acesso   =P')\n",
        "    exit(0) \n",
        "\n",
        "for PMID in lista_de_PMID:\n",
        "    pmid_artigo = PMID\n",
        "    #print(pmid_artigo)\n",
        "    thread_number = PMID\n",
        "    thread = Th(thread_number)\n",
        "    #thread.start()\n",
        "    thread.run()\n",
        "    print('thread: '+ str(PMID) + ' concluida com sucesso!')\n",
        "    #print('resultado df:')\n",
        "    #print(df_planilha.head(10))\n"
      ],
      "metadata": {
        "id": "R0WmkcRRCoCq"
      },
      "execution_count": null,
      "outputs": []
    },
    {
      "cell_type": "code",
      "source": [
        "auth.authenticate_user()\n",
        "gc = gspread.authorize(GoogleCredentials.get_application_default())"
      ],
      "metadata": {
        "id": "N_5tg102LY9z"
      },
      "execution_count": null,
      "outputs": []
    },
    {
      "cell_type": "code",
      "source": [
        "#worksheet = gc.open('nome planilha').sheet1\n",
        "planilha = gc.open('resumo artigos cientificos')\n",
        "worksheet = planilha.get_worksheet(0)"
      ],
      "metadata": {
        "id": "SVG6GPszuRl8"
      },
      "execution_count": null,
      "outputs": []
    },
    {
      "cell_type": "code",
      "source": [
        "\n",
        "\n",
        "# get_all_values gives a list of rows.\n",
        "rows = worksheet.get_all_values()\n",
        "print(rows)\n",
        "dataframe = pd.DataFrame(worksheet.get_all_records())\n",
        "dataframe.head()\n",
        "#df_gsuite = pd.DataFrame.from_records(rows, columns = rows[0] )\n",
        "#df_gsuite.drop(1, axis = 0, inplace = True)\n",
        "#df_gsuite.drop(0, axis = 0, inplace = True)"
      ],
      "metadata": {
        "id": "IvSY65jPAZR6"
      },
      "execution_count": null,
      "outputs": []
    },
    {
      "cell_type": "code",
      "source": [
        "#worksheet.update([df_planilha.columns.values.tolist()] + df_planilha.values.tolist())\n",
        "#worksheet.write([df_planilha.columns.values.tolist()] + df_planilha.values.tolist())\n",
        "\n",
        "#worksheet = some_worksheet_obtained_from_gspread_client\n",
        "\n",
        "#df = pd.DataFrame.from_records([{'a': i, 'b': i * 2} for i in range(100)])\n",
        "set_with_dataframe(worksheet, df_planilha)\n",
        "format_with_dataframe(worksheet, df_planilha, include_column_header=True)"
      ],
      "metadata": {
        "id": "qwpP_uslCZHp"
      },
      "execution_count": null,
      "outputs": []
    },
    {
      "cell_type": "code",
      "source": [
        ""
      ],
      "metadata": {
        "id": "F79C8mTDETsY"
      },
      "execution_count": null,
      "outputs": []
    }
  ]
}