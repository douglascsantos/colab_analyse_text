{
  "nbformat": 4,
  "nbformat_minor": 0,
  "metadata": {
    "colab": {
      "name": "nltk_resumo.ipynb",
      "provenance": [],
      "collapsed_sections": [],
      "authorship_tag": "ABX9TyOCgXVuzaQjEhn5JCgrhVHf",
      "include_colab_link": true
    },
    "kernelspec": {
      "name": "python3",
      "display_name": "Python 3"
    },
    "language_info": {
      "name": "python"
    }
  },
  "cells": [
    {
      "cell_type": "markdown",
      "metadata": {
        "id": "view-in-github",
        "colab_type": "text"
      },
      "source": [
        "<a href=\"https://colab.research.google.com/github/douglascsantos/colab_analyse_text/blob/main/nltk_resumo.ipynb\" target=\"_parent\"><img src=\"https://colab.research.google.com/assets/colab-badge.svg\" alt=\"Open In Colab\"/></a>"
      ]
    },
    {
      "cell_type": "code",
      "execution_count": 39,
      "metadata": {
        "id": "cNECyz5OlRqU",
        "colab": {
          "base_uri": "https://localhost:8080/"
        },
        "outputId": "c30954d4-fbd8-49f5-d19b-a1106e367fc3"
      },
      "outputs": [
        {
          "output_type": "stream",
          "name": "stdout",
          "text": [
            "Requirement already satisfied: gspread in /usr/local/lib/python3.7/dist-packages (5.1.1)\n",
            "Requirement already satisfied: google-auth>=1.12.0 in /usr/local/lib/python3.7/dist-packages (from gspread) (1.35.0)\n",
            "Requirement already satisfied: google-auth-oauthlib>=0.4.1 in /usr/local/lib/python3.7/dist-packages (from gspread) (0.4.6)\n",
            "Requirement already satisfied: six>=1.9.0 in /usr/local/lib/python3.7/dist-packages (from google-auth>=1.12.0->gspread) (1.15.0)\n",
            "Requirement already satisfied: setuptools>=40.3.0 in /usr/local/lib/python3.7/dist-packages (from google-auth>=1.12.0->gspread) (57.4.0)\n",
            "Requirement already satisfied: rsa<5,>=3.1.4 in /usr/local/lib/python3.7/dist-packages (from google-auth>=1.12.0->gspread) (4.8)\n",
            "Requirement already satisfied: pyasn1-modules>=0.2.1 in /usr/local/lib/python3.7/dist-packages (from google-auth>=1.12.0->gspread) (0.2.8)\n",
            "Requirement already satisfied: cachetools<5.0,>=2.0.0 in /usr/local/lib/python3.7/dist-packages (from google-auth>=1.12.0->gspread) (4.2.4)\n",
            "Requirement already satisfied: requests-oauthlib>=0.7.0 in /usr/local/lib/python3.7/dist-packages (from google-auth-oauthlib>=0.4.1->gspread) (1.3.0)\n",
            "Requirement already satisfied: pyasn1<0.5.0,>=0.4.6 in /usr/local/lib/python3.7/dist-packages (from pyasn1-modules>=0.2.1->google-auth>=1.12.0->gspread) (0.4.8)\n",
            "Requirement already satisfied: oauthlib>=3.0.0 in /usr/local/lib/python3.7/dist-packages (from requests-oauthlib>=0.7.0->google-auth-oauthlib>=0.4.1->gspread) (3.1.1)\n",
            "Requirement already satisfied: requests>=2.0.0 in /usr/local/lib/python3.7/dist-packages (from requests-oauthlib>=0.7.0->google-auth-oauthlib>=0.4.1->gspread) (2.23.0)\n",
            "Requirement already satisfied: idna<3,>=2.5 in /usr/local/lib/python3.7/dist-packages (from requests>=2.0.0->requests-oauthlib>=0.7.0->google-auth-oauthlib>=0.4.1->gspread) (2.10)\n",
            "Requirement already satisfied: chardet<4,>=3.0.2 in /usr/local/lib/python3.7/dist-packages (from requests>=2.0.0->requests-oauthlib>=0.7.0->google-auth-oauthlib>=0.4.1->gspread) (3.0.4)\n",
            "Requirement already satisfied: certifi>=2017.4.17 in /usr/local/lib/python3.7/dist-packages (from requests>=2.0.0->requests-oauthlib>=0.7.0->google-auth-oauthlib>=0.4.1->gspread) (2021.10.8)\n",
            "Requirement already satisfied: urllib3!=1.25.0,!=1.25.1,<1.26,>=1.21.1 in /usr/local/lib/python3.7/dist-packages (from requests>=2.0.0->requests-oauthlib>=0.7.0->google-auth-oauthlib>=0.4.1->gspread) (1.24.3)\n",
            "Requirement already satisfied: pandas in /root/.local/lib/python3.7/site-packages (1.3.5)\n",
            "Requirement already satisfied: pytz>=2017.3 in /usr/local/lib/python3.7/dist-packages (from pandas) (2018.9)\n",
            "Requirement already satisfied: numpy>=1.17.3 in /usr/local/lib/python3.7/dist-packages (from pandas) (1.19.5)\n",
            "Requirement already satisfied: python-dateutil>=2.7.3 in /usr/local/lib/python3.7/dist-packages (from pandas) (2.8.2)\n",
            "Requirement already satisfied: six>=1.5 in /usr/local/lib/python3.7/dist-packages (from python-dateutil>=2.7.3->pandas) (1.15.0)\n",
            "Requirement already satisfied: ipynb in /usr/local/lib/python3.7/dist-packages (0.5.1)\n",
            "Requirement already satisfied: biopython in /usr/local/lib/python3.7/dist-packages (1.79)\n",
            "Requirement already satisfied: numpy in /usr/local/lib/python3.7/dist-packages (from biopython) (1.19.5)\n",
            "Requirement already satisfied: pymed in /usr/local/lib/python3.7/dist-packages (0.8.9)\n",
            "Requirement already satisfied: requests>=2.20.0 in /usr/local/lib/python3.7/dist-packages (from pymed) (2.23.0)\n",
            "Requirement already satisfied: idna<3,>=2.5 in /usr/local/lib/python3.7/dist-packages (from requests>=2.20.0->pymed) (2.10)\n",
            "Requirement already satisfied: certifi>=2017.4.17 in /usr/local/lib/python3.7/dist-packages (from requests>=2.20.0->pymed) (2021.10.8)\n",
            "Requirement already satisfied: urllib3!=1.25.0,!=1.25.1,<1.26,>=1.21.1 in /usr/local/lib/python3.7/dist-packages (from requests>=2.20.0->pymed) (1.24.3)\n",
            "Requirement already satisfied: chardet<4,>=3.0.2 in /usr/local/lib/python3.7/dist-packages (from requests>=2.20.0->pymed) (3.0.4)\n",
            "Requirement already satisfied: nltk in /usr/local/lib/python3.7/dist-packages (3.2.5)\n",
            "Requirement already satisfied: six in /usr/local/lib/python3.7/dist-packages (from nltk) (1.15.0)\n",
            "Requirement already satisfied: transformers in /usr/local/lib/python3.7/dist-packages (4.16.0)\n",
            "Requirement already satisfied: pyyaml>=5.1 in /usr/local/lib/python3.7/dist-packages (from transformers) (6.0)\n",
            "Requirement already satisfied: numpy>=1.17 in /usr/local/lib/python3.7/dist-packages (from transformers) (1.19.5)\n",
            "Requirement already satisfied: tqdm>=4.27 in /usr/local/lib/python3.7/dist-packages (from transformers) (4.62.3)\n",
            "Requirement already satisfied: packaging>=20.0 in /usr/local/lib/python3.7/dist-packages (from transformers) (21.3)\n",
            "Requirement already satisfied: regex!=2019.12.17 in /usr/local/lib/python3.7/dist-packages (from transformers) (2019.12.20)\n",
            "Requirement already satisfied: importlib-metadata in /usr/local/lib/python3.7/dist-packages (from transformers) (4.10.1)\n",
            "Requirement already satisfied: filelock in /usr/local/lib/python3.7/dist-packages (from transformers) (3.4.2)\n",
            "Requirement already satisfied: requests in /usr/local/lib/python3.7/dist-packages (from transformers) (2.23.0)\n",
            "Requirement already satisfied: sacremoses in /usr/local/lib/python3.7/dist-packages (from transformers) (0.0.47)\n",
            "Requirement already satisfied: huggingface-hub<1.0,>=0.1.0 in /usr/local/lib/python3.7/dist-packages (from transformers) (0.4.0)\n",
            "Requirement already satisfied: tokenizers!=0.11.3,>=0.10.1 in /usr/local/lib/python3.7/dist-packages (from transformers) (0.11.4)\n",
            "Requirement already satisfied: typing-extensions>=3.7.4.3 in /usr/local/lib/python3.7/dist-packages (from huggingface-hub<1.0,>=0.1.0->transformers) (3.10.0.2)\n",
            "Requirement already satisfied: pyparsing!=3.0.5,>=2.0.2 in /usr/local/lib/python3.7/dist-packages (from packaging>=20.0->transformers) (3.0.7)\n",
            "Requirement already satisfied: zipp>=0.5 in /usr/local/lib/python3.7/dist-packages (from importlib-metadata->transformers) (3.7.0)\n",
            "Requirement already satisfied: urllib3!=1.25.0,!=1.25.1,<1.26,>=1.21.1 in /usr/local/lib/python3.7/dist-packages (from requests->transformers) (1.24.3)\n",
            "Requirement already satisfied: chardet<4,>=3.0.2 in /usr/local/lib/python3.7/dist-packages (from requests->transformers) (3.0.4)\n",
            "Requirement already satisfied: certifi>=2017.4.17 in /usr/local/lib/python3.7/dist-packages (from requests->transformers) (2021.10.8)\n",
            "Requirement already satisfied: idna<3,>=2.5 in /usr/local/lib/python3.7/dist-packages (from requests->transformers) (2.10)\n",
            "Requirement already satisfied: joblib in /usr/local/lib/python3.7/dist-packages (from sacremoses->transformers) (1.1.0)\n",
            "Requirement already satisfied: click in /usr/local/lib/python3.7/dist-packages (from sacremoses->transformers) (7.1.2)\n",
            "Requirement already satisfied: six in /usr/local/lib/python3.7/dist-packages (from sacremoses->transformers) (1.15.0)\n"
          ]
        }
      ],
      "source": [
        "try:\n",
        "  import google.colab\n",
        "  !pip install --upgrade gspread\n",
        "  !pip install --upgrade pandas --user\n",
        "  !pip install ipynb\n",
        "  !pip install biopython\n",
        "  !pip install pymed\n",
        "  !pip install nltk\n",
        "  !pip install transformers\n",
        "except ImportError:\n",
        "    pass\n",
        "\n",
        "from google.colab import auth\n",
        "import gspread\n",
        "from oauth2client.client import GoogleCredentials\n",
        "import pandas as pd\n",
        "\n",
        "from transformers import pipeline"
      ]
    },
    {
      "cell_type": "code",
      "source": [
        "auth.authenticate_user()\n",
        "gc = gspread.authorize(GoogleCredentials.get_application_default())"
      ],
      "metadata": {
        "id": "K00htHCwjSlu"
      },
      "execution_count": 40,
      "outputs": []
    },
    {
      "cell_type": "code",
      "source": [
        "######## NOME DA PLANILHA GOOGLE DE DESTINO\n",
        "\n",
        "#####worksheet = gc.open('nome planilha').sheet1\n",
        "planilha = gc.open('resumo artigos cientificos')\n",
        "worksheet = planilha.get_worksheet(0)\n",
        "###nova_spredsheet = gc.create('new_file_pesquisa.xlsx')\n",
        "\n",
        "##### get_all_values gives a list of rows.\n",
        "rows = worksheet.get_all_values()\n",
        "print(rows)\n",
        "print('ok----------')\n",
        "dataframe = pd.DataFrame(worksheet.get_all_records())\n",
        "#dataframe.head(5)\n",
        "df_gsuite = pd.DataFrame.from_records(rows, columns = rows[0] )\n",
        "df_gsuite.head(5)"
      ],
      "metadata": {
        "colab": {
          "base_uri": "https://localhost:8080/",
          "height": 331
        },
        "id": "dPrm7a25iGdf",
        "outputId": "e19050b7-5ee2-495c-fa34-dcff25866cfb"
      },
      "execution_count": 41,
      "outputs": [
        {
          "output_type": "stream",
          "name": "stdout",
          "text": [
            "[['ForeName', 'LastName', 'Initials', 'Affiliation', 'Title', 'PMID', 'ISSNLinking', 'ELocationID', 'ArticleId', 'Year', 'Month', 'Day', 'ArticleTitle', 'AbstractText', 'Language', 'Keyword', '', 'ForeName', 'LastName', 'Initials', 'Affiliation', 'Title', 'PMID', 'ISSNLinking', 'ELocationID', 'ArticleId', 'Year', 'Month', 'Day', 'ArticleTitle', 'AbstractText', 'Language', 'Keyword'], ['Nicole K, Jessica A, Ankur, Casey, Claudia B, Ritu, Lydia', 'Yun, Slostad, Naqib, Frankenberger, Perez, Ghai, Usha', 'NK, JA, A, C, CB, R, L', 'Department of Internal Medicine, Rush University Medical Center, Chicago, Illinois, USA., Division of Hematology, Oncology and Cell Therapy, Rush University Medical Center, Chicago, Illinois, USA., Department of Cell & Molecular Medicine, Rush University Medical Center, Chicago, Illinois, USA., Department of Cell & Molecular Medicine, Rush University Medical Center, Chicago, Illinois, USA., Department of Surgery, Rush University Medical Center, Chicago, Illinois, USA., Department of Pathology, Advocate Christ Medical Center, Oak Lawn, Illinois, USA., Division of Hematology, Oncology and Cell Therapy, Rush University Medical Center, Chicago, Illinois, USA.', 'The oncologist', '34423517', '1083-7159', '10.1002/onco.13952', '34423517, 10.1002/onco.13952, PMC8649033, 32720039, 18026089, 22318521, 24807915, 27557300, 26279627, 32117287, 19822403, 26195705, 29276709, 30092821, 20564117, 25993171, 31734590, 27980389, 32569215, 30030707, 29860917, 31577379, 27028851, 33130487, 24863883, 26402167, 31302854, 33059724', '2021, 2021, 2021, 2021, 2021, 2021, 2021, 2021, 2021', '12, 12, 12, 09, 06, 08, 8, 12, 8', '21, 21, 12, 15, 05, 24, 22, 23', 'Histologic Discordance Between Primary Tumor and Nodal Metastasis in Breast Cancer: Solving a Clinical Conundrum in the Era of Genomics.', '\"Next-generation sequencing (NGS) technologies have become increasingly used for managing breast cancer. In addition to the conventional use of NGS for predicting recurrence risk and identifying potential actionable mutations, NGS can also serve as a powerful tool to understand clonal origin and evolution of tumor pairs and play a unique role in clarifying complex clinical presentations. We report an unusual case of early-stage breast cancer in which the primary tumor and draining axillary node were histologically discordant. The primary tumor was invasive lobular carcinoma, whereas the nodal metastasis was invasive ductal carcinoma. This discordance led us to question whether the tumors had the same origin. NGS performed on both specimens identified no overlapping variants, leading us to conclude that the patient had two separate primary breast cancers, with the nodal tumor representing metastasis from an occult breast cancer. DNA sequencing of the primary tumor and the nodal metastasis allowed us to predict the patients recurrence risk, and we initiated adjuvant chemotherapy and hormonal therapy based on these results. This case illustrates the utility of NGS for successfully managing a rare and challenging case. KEY POINTS: A degree of molecular concordance is expected for tumors originating from a common stem or progenitor cell. Histological discordance and absence of any genomic overlap should raise suspicion for two separate primary tumors. Paired DNA sequencing of the primary tumor and nodal metastasis can inform clinical decisions when primary breast tumor and axillary metastasis are histologically discordant. Molecular/Precision Oncology Tumor Board is the best setting to facilitate such decisions in these challenging cases. Paired DNA sequencing under these rare circumstances may suggest an occult breast tumor.\"', 'eng', 'Breast cancer, Cancer stem cells, Genomic sequencing, Histologic discordance, Next-generation sequencing, Occult breast cancer', '', '', '', '', '', '', '', '', '', '', '', '', '', '', '', '', '']]\n",
            "ok----------\n"
          ]
        },
        {
          "output_type": "execute_result",
          "data": {
            "text/html": [
              "\n",
              "  <div id=\"df-f76c14d5-16e7-4df1-8948-2ac52208e2ad\">\n",
              "    <div class=\"colab-df-container\">\n",
              "      <div>\n",
              "<style scoped>\n",
              "    .dataframe tbody tr th:only-of-type {\n",
              "        vertical-align: middle;\n",
              "    }\n",
              "\n",
              "    .dataframe tbody tr th {\n",
              "        vertical-align: top;\n",
              "    }\n",
              "\n",
              "    .dataframe thead th {\n",
              "        text-align: right;\n",
              "    }\n",
              "</style>\n",
              "<table border=\"1\" class=\"dataframe\">\n",
              "  <thead>\n",
              "    <tr style=\"text-align: right;\">\n",
              "      <th></th>\n",
              "      <th>ForeName</th>\n",
              "      <th>LastName</th>\n",
              "      <th>Initials</th>\n",
              "      <th>Affiliation</th>\n",
              "      <th>Title</th>\n",
              "      <th>PMID</th>\n",
              "      <th>ISSNLinking</th>\n",
              "      <th>ELocationID</th>\n",
              "      <th>ArticleId</th>\n",
              "      <th>Year</th>\n",
              "      <th>Month</th>\n",
              "      <th>Day</th>\n",
              "      <th>ArticleTitle</th>\n",
              "      <th>AbstractText</th>\n",
              "      <th>Language</th>\n",
              "      <th>Keyword</th>\n",
              "      <th></th>\n",
              "      <th>ForeName</th>\n",
              "      <th>LastName</th>\n",
              "      <th>Initials</th>\n",
              "      <th>Affiliation</th>\n",
              "      <th>Title</th>\n",
              "      <th>PMID</th>\n",
              "      <th>ISSNLinking</th>\n",
              "      <th>ELocationID</th>\n",
              "      <th>ArticleId</th>\n",
              "      <th>Year</th>\n",
              "      <th>Month</th>\n",
              "      <th>Day</th>\n",
              "      <th>ArticleTitle</th>\n",
              "      <th>AbstractText</th>\n",
              "      <th>Language</th>\n",
              "      <th>Keyword</th>\n",
              "    </tr>\n",
              "  </thead>\n",
              "  <tbody>\n",
              "    <tr>\n",
              "      <th>0</th>\n",
              "      <td>ForeName</td>\n",
              "      <td>LastName</td>\n",
              "      <td>Initials</td>\n",
              "      <td>Affiliation</td>\n",
              "      <td>Title</td>\n",
              "      <td>PMID</td>\n",
              "      <td>ISSNLinking</td>\n",
              "      <td>ELocationID</td>\n",
              "      <td>ArticleId</td>\n",
              "      <td>Year</td>\n",
              "      <td>Month</td>\n",
              "      <td>Day</td>\n",
              "      <td>ArticleTitle</td>\n",
              "      <td>AbstractText</td>\n",
              "      <td>Language</td>\n",
              "      <td>Keyword</td>\n",
              "      <td></td>\n",
              "      <td>ForeName</td>\n",
              "      <td>LastName</td>\n",
              "      <td>Initials</td>\n",
              "      <td>Affiliation</td>\n",
              "      <td>Title</td>\n",
              "      <td>PMID</td>\n",
              "      <td>ISSNLinking</td>\n",
              "      <td>ELocationID</td>\n",
              "      <td>ArticleId</td>\n",
              "      <td>Year</td>\n",
              "      <td>Month</td>\n",
              "      <td>Day</td>\n",
              "      <td>ArticleTitle</td>\n",
              "      <td>AbstractText</td>\n",
              "      <td>Language</td>\n",
              "      <td>Keyword</td>\n",
              "    </tr>\n",
              "    <tr>\n",
              "      <th>1</th>\n",
              "      <td>Nicole K, Jessica A, Ankur, Casey, Claudia B, ...</td>\n",
              "      <td>Yun, Slostad, Naqib, Frankenberger, Perez, Gha...</td>\n",
              "      <td>NK, JA, A, C, CB, R, L</td>\n",
              "      <td>Department of Internal Medicine, Rush Universi...</td>\n",
              "      <td>The oncologist</td>\n",
              "      <td>34423517</td>\n",
              "      <td>1083-7159</td>\n",
              "      <td>10.1002/onco.13952</td>\n",
              "      <td>34423517, 10.1002/onco.13952, PMC8649033, 3272...</td>\n",
              "      <td>2021, 2021, 2021, 2021, 2021, 2021, 2021, 2021...</td>\n",
              "      <td>12, 12, 12, 09, 06, 08, 8, 12, 8</td>\n",
              "      <td>21, 21, 12, 15, 05, 24, 22, 23</td>\n",
              "      <td>Histologic Discordance Between Primary Tumor a...</td>\n",
              "      <td>\"Next-generation sequencing (NGS) technologies...</td>\n",
              "      <td>eng</td>\n",
              "      <td>Breast cancer, Cancer stem cells, Genomic sequ...</td>\n",
              "      <td></td>\n",
              "      <td></td>\n",
              "      <td></td>\n",
              "      <td></td>\n",
              "      <td></td>\n",
              "      <td></td>\n",
              "      <td></td>\n",
              "      <td></td>\n",
              "      <td></td>\n",
              "      <td></td>\n",
              "      <td></td>\n",
              "      <td></td>\n",
              "      <td></td>\n",
              "      <td></td>\n",
              "      <td></td>\n",
              "      <td></td>\n",
              "      <td></td>\n",
              "    </tr>\n",
              "  </tbody>\n",
              "</table>\n",
              "</div>\n",
              "      <button class=\"colab-df-convert\" onclick=\"convertToInteractive('df-f76c14d5-16e7-4df1-8948-2ac52208e2ad')\"\n",
              "              title=\"Convert this dataframe to an interactive table.\"\n",
              "              style=\"display:none;\">\n",
              "        \n",
              "  <svg xmlns=\"http://www.w3.org/2000/svg\" height=\"24px\"viewBox=\"0 0 24 24\"\n",
              "       width=\"24px\">\n",
              "    <path d=\"M0 0h24v24H0V0z\" fill=\"none\"/>\n",
              "    <path d=\"M18.56 5.44l.94 2.06.94-2.06 2.06-.94-2.06-.94-.94-2.06-.94 2.06-2.06.94zm-11 1L8.5 8.5l.94-2.06 2.06-.94-2.06-.94L8.5 2.5l-.94 2.06-2.06.94zm10 10l.94 2.06.94-2.06 2.06-.94-2.06-.94-.94-2.06-.94 2.06-2.06.94z\"/><path d=\"M17.41 7.96l-1.37-1.37c-.4-.4-.92-.59-1.43-.59-.52 0-1.04.2-1.43.59L10.3 9.45l-7.72 7.72c-.78.78-.78 2.05 0 2.83L4 21.41c.39.39.9.59 1.41.59.51 0 1.02-.2 1.41-.59l7.78-7.78 2.81-2.81c.8-.78.8-2.07 0-2.86zM5.41 20L4 18.59l7.72-7.72 1.47 1.35L5.41 20z\"/>\n",
              "  </svg>\n",
              "      </button>\n",
              "      \n",
              "  <style>\n",
              "    .colab-df-container {\n",
              "      display:flex;\n",
              "      flex-wrap:wrap;\n",
              "      gap: 12px;\n",
              "    }\n",
              "\n",
              "    .colab-df-convert {\n",
              "      background-color: #E8F0FE;\n",
              "      border: none;\n",
              "      border-radius: 50%;\n",
              "      cursor: pointer;\n",
              "      display: none;\n",
              "      fill: #1967D2;\n",
              "      height: 32px;\n",
              "      padding: 0 0 0 0;\n",
              "      width: 32px;\n",
              "    }\n",
              "\n",
              "    .colab-df-convert:hover {\n",
              "      background-color: #E2EBFA;\n",
              "      box-shadow: 0px 1px 2px rgba(60, 64, 67, 0.3), 0px 1px 3px 1px rgba(60, 64, 67, 0.15);\n",
              "      fill: #174EA6;\n",
              "    }\n",
              "\n",
              "    [theme=dark] .colab-df-convert {\n",
              "      background-color: #3B4455;\n",
              "      fill: #D2E3FC;\n",
              "    }\n",
              "\n",
              "    [theme=dark] .colab-df-convert:hover {\n",
              "      background-color: #434B5C;\n",
              "      box-shadow: 0px 1px 3px 1px rgba(0, 0, 0, 0.15);\n",
              "      filter: drop-shadow(0px 1px 2px rgba(0, 0, 0, 0.3));\n",
              "      fill: #FFFFFF;\n",
              "    }\n",
              "  </style>\n",
              "\n",
              "      <script>\n",
              "        const buttonEl =\n",
              "          document.querySelector('#df-f76c14d5-16e7-4df1-8948-2ac52208e2ad button.colab-df-convert');\n",
              "        buttonEl.style.display =\n",
              "          google.colab.kernel.accessAllowed ? 'block' : 'none';\n",
              "\n",
              "        async function convertToInteractive(key) {\n",
              "          const element = document.querySelector('#df-f76c14d5-16e7-4df1-8948-2ac52208e2ad');\n",
              "          const dataTable =\n",
              "            await google.colab.kernel.invokeFunction('convertToInteractive',\n",
              "                                                     [key], {});\n",
              "          if (!dataTable) return;\n",
              "\n",
              "          const docLinkHtml = 'Like what you see? Visit the ' +\n",
              "            '<a target=\"_blank\" href=https://colab.research.google.com/notebooks/data_table.ipynb>data table notebook</a>'\n",
              "            + ' to learn more about interactive tables.';\n",
              "          element.innerHTML = '';\n",
              "          dataTable['output_type'] = 'display_data';\n",
              "          await google.colab.output.renderOutput(dataTable, element);\n",
              "          const docLink = document.createElement('div');\n",
              "          docLink.innerHTML = docLinkHtml;\n",
              "          element.appendChild(docLink);\n",
              "        }\n",
              "      </script>\n",
              "    </div>\n",
              "  </div>\n",
              "  "
            ],
            "text/plain": [
              "                                            ForeName  ...  Keyword\n",
              "0                                           ForeName  ...  Keyword\n",
              "1  Nicole K, Jessica A, Ankur, Casey, Claudia B, ...  ...         \n",
              "\n",
              "[2 rows x 33 columns]"
            ]
          },
          "metadata": {},
          "execution_count": 41
        }
      ]
    },
    {
      "cell_type": "code",
      "source": [
        "summarizer = pipeline('summarization')"
      ],
      "metadata": {
        "id": "np_UcU4_j6fn",
        "colab": {
          "base_uri": "https://localhost:8080/"
        },
        "outputId": "e506ece0-8dc4-4a2d-c7f2-ed5bb04a8d85"
      },
      "execution_count": 42,
      "outputs": [
        {
          "output_type": "stream",
          "name": "stderr",
          "text": [
            "No model was supplied, defaulted to sshleifer/distilbart-cnn-12-6 (https://huggingface.co/sshleifer/distilbart-cnn-12-6)\n"
          ]
        }
      ]
    },
    {
      "cell_type": "code",
      "source": [
        "article = \"\"\"\n",
        "Abstract\n",
        "Identifying disease-causing mutations in DNA has long been the goal of genetic medicine. In the last decade, the toolkit for discovering DNA variants has undergone rapid evolution: mutations that were historically discovered by analog approaches like Sanger sequencing and multiplex ligation-dependent probe amplification (“MLPA”) can now be decoded from a digital signal with next-generation sequencing (“NGS”). Given the explosive growth of NGS-based tests in the clinic, it is of the utmost importance that medical practitioners have a fundamental understanding of the newest NGS methodologies. To that end, here we provide a very basic overview of how NGS works, with particular emphasis on the close resemblance between the underlying chemistry of Sanger sequencing and NGS. Using a pair of simple analogies, we develop an intuitive framework for understanding how high-confidence detection of single-nucleotide polymorphisms, indels, and large deletions/duplications is possible with NGS alone.\n",
        "\n",
        "Keywords: Next-generation sequencing (NGS), Variant calling, SNP/indel calling, Del/dup calling, Read depth\n",
        "\n",
        "\"\"\""
      ],
      "metadata": {
        "id": "kknQJM4Ge-ku"
      },
      "execution_count": 43,
      "outputs": []
    },
    {
      "cell_type": "code",
      "source": [
        "len(article)"
      ],
      "metadata": {
        "colab": {
          "base_uri": "https://localhost:8080/"
        },
        "id": "r18vvZoBifBx",
        "outputId": "69e1ce23-c30a-4b84-d1f2-448d30aac414"
      },
      "execution_count": 44,
      "outputs": [
        {
          "output_type": "execute_result",
          "data": {
            "text/plain": [
              "1121"
            ]
          },
          "metadata": {},
          "execution_count": 44
        }
      ]
    },
    {
      "cell_type": "code",
      "source": [
        "resumo = summarizer(article, max_length=600, min_length=10, do_sample=True)"
      ],
      "metadata": {
        "colab": {
          "base_uri": "https://localhost:8080/"
        },
        "id": "yXt3BOUnfIPW",
        "outputId": "3d154e2a-ad21-4c38-a001-15bd7b618c94"
      },
      "execution_count": 45,
      "outputs": [
        {
          "output_type": "stream",
          "name": "stderr",
          "text": [
            "Your max_length is set to 600, but you input_length is only 241. You might consider decreasing max_length manually, e.g. summarizer('...', max_length=120)\n",
            "/usr/local/lib/python3.7/dist-packages/transformers/generation_utils.py:2343: UserWarning: __floordiv__ is deprecated, and its behavior will change in a future version of pytorch. It currently rounds toward 0 (like the 'trunc' function NOT 'floor'). This results in incorrect rounding for negative values. To keep the current behavior, use torch.div(a, b, rounding_mode='trunc'), or for actual floor division, use torch.div(a, b, rounding_mode='floor').\n",
            "  next_indices = next_tokens // vocab_size\n"
          ]
        }
      ]
    },
    {
      "cell_type": "code",
      "source": [
        "resumo[0]['summary_text']"
      ],
      "metadata": {
        "colab": {
          "base_uri": "https://localhost:8080/",
          "height": 87
        },
        "id": "--RZWtUlhrTR",
        "outputId": "f644c0d7-403b-4571-f695-bdfaf613744c"
      },
      "execution_count": 46,
      "outputs": [
        {
          "output_type": "execute_result",
          "data": {
            "application/vnd.google.colaboratory.intrinsic+json": {
              "type": "string"
            },
            "text/plain": [
              "' Next-generation sequencing (NGS) can now be decoded from a digital signal with NGS . Using a pair of simple analogies, we develop an intuitive framework for understanding how high-confidence detection of single-nucleotide polymorphisms, indels, and large deletions/duplications is possible . We provide a very basic overview of how NGS works with particular emphasis on the close resemblance between the underlying chemistry of Sanger sequencing and NGS.'"
            ]
          },
          "metadata": {},
          "execution_count": 46
        }
      ]
    },
    {
      "cell_type": "code",
      "source": [
        "len(resumo[0]['summary_text'])"
      ],
      "metadata": {
        "colab": {
          "base_uri": "https://localhost:8080/"
        },
        "id": "mvhzymtOhxv2",
        "outputId": "f8d8aead-7c37-4c14-b846-b848f052ce4b"
      },
      "execution_count": 47,
      "outputs": [
        {
          "output_type": "execute_result",
          "data": {
            "text/plain": [
              "455"
            ]
          },
          "metadata": {},
          "execution_count": 47
        }
      ]
    },
    {
      "cell_type": "code",
      "source": [
        ""
      ],
      "metadata": {
        "id": "HrbG29ObjWyz"
      },
      "execution_count": 47,
      "outputs": []
    }
  ]
}